{
 "cells": [
  {
   "cell_type": "code",
   "execution_count": 9,
   "metadata": {
    "ExecuteTime": {
     "end_time": "2023-09-24T18:24:48.799585Z",
     "start_time": "2023-09-24T18:24:48.794123Z"
    }
   },
   "outputs": [],
   "source": [
    "# import all required libraries for Project as and when needed during the projects progress\n",
    "\n",
    "import os\n",
    "import pandas as pd\n",
    "import numpy as np\n",
    "import requests\n",
    "from pathlib import Path\n",
    "import matplotlib.pyplot as plt\n",
    "from math import floor\n",
    "import datetime as dt\n",
    "import warnings\n",
    "warnings.simplefilter('ignore', FutureWarning)\n",
    "\n",
    "import sklearn\n",
    "from sklearn.linear_model import LinearRegression\n",
    "\n",
    "plt.rcParams['figure.figsize'] = (20,10)\n",
    "plt.style.use('fivethirtyeight')\n",
    "plt.show()"
   ]
  },
  {
   "cell_type": "code",
   "execution_count": 10,
   "outputs": [
    {
     "name": "stdout",
     "output_type": "stream",
     "text": [
      "Retrieving notices: ...working... DEBUG:urllib3.connectionpool:Starting new HTTPS connection (1): repo.anaconda.com:443\r\n",
      "DEBUG:urllib3.connectionpool:Starting new HTTPS connection (1): repo.anaconda.com:443\r\n",
      "DEBUG:urllib3.connectionpool:https://repo.anaconda.com:443 \"GET /pkgs/main/notices.json HTTP/1.1\" 404 None\r\n",
      "DEBUG:urllib3.connectionpool:https://repo.anaconda.com:443 \"GET /pkgs/r/notices.json HTTP/1.1\" 404 None\r\n",
      "done\r\n",
      "\r\n",
      "PackageNotInstalledError: Package is not installed in prefix.\r\n",
      "  prefix: /Users/chetankothari/anaconda3\r\n",
      "  package name: pandas\r\n",
      "\r\n",
      "\r\n",
      "\n",
      "Note: you may need to restart the kernel to use updated packages.\n"
     ]
    }
   ],
   "source": [
    "conda update pandas"
   ],
   "metadata": {
    "collapsed": false,
    "ExecuteTime": {
     "end_time": "2023-09-24T18:24:53.516219Z",
     "start_time": "2023-09-24T18:24:49.591610Z"
    }
   }
  },
  {
   "cell_type": "code",
   "execution_count": 11,
   "metadata": {
    "ExecuteTime": {
     "end_time": "2023-09-24T18:25:03.585046Z",
     "start_time": "2023-09-24T18:24:54.032770Z"
    }
   },
   "outputs": [
    {
     "data": {
      "text/plain": "                        Open     High      Low    Close      Volume\nDatetimestamp                                                      \n2019-12-31 11:55:00  1.12266  1.12267  1.12250  1.12251  196.390000\n2019-12-31 11:56:00  1.12250  1.12261  1.12247  1.12251  167.640000\n2019-12-31 11:57:00  1.12254  1.12273  1.12254  1.12271  164.570002\n2019-12-31 11:58:00  1.12271  1.12283  1.12262  1.12275  244.780001\n2019-12-31 11:59:00  1.12276  1.12281  1.12272  1.12277  219.340002",
      "text/html": "<div>\n<style scoped>\n    .dataframe tbody tr th:only-of-type {\n        vertical-align: middle;\n    }\n\n    .dataframe tbody tr th {\n        vertical-align: top;\n    }\n\n    .dataframe thead th {\n        text-align: right;\n    }\n</style>\n<table border=\"1\" class=\"dataframe\">\n  <thead>\n    <tr style=\"text-align: right;\">\n      <th></th>\n      <th>Open</th>\n      <th>High</th>\n      <th>Low</th>\n      <th>Close</th>\n      <th>Volume</th>\n    </tr>\n    <tr>\n      <th>Datetimestamp</th>\n      <th></th>\n      <th></th>\n      <th></th>\n      <th></th>\n      <th></th>\n    </tr>\n  </thead>\n  <tbody>\n    <tr>\n      <th>2019-12-31 11:55:00</th>\n      <td>1.12266</td>\n      <td>1.12267</td>\n      <td>1.12250</td>\n      <td>1.12251</td>\n      <td>196.390000</td>\n    </tr>\n    <tr>\n      <th>2019-12-31 11:56:00</th>\n      <td>1.12250</td>\n      <td>1.12261</td>\n      <td>1.12247</td>\n      <td>1.12251</td>\n      <td>167.640000</td>\n    </tr>\n    <tr>\n      <th>2019-12-31 11:57:00</th>\n      <td>1.12254</td>\n      <td>1.12273</td>\n      <td>1.12254</td>\n      <td>1.12271</td>\n      <td>164.570002</td>\n    </tr>\n    <tr>\n      <th>2019-12-31 11:58:00</th>\n      <td>1.12271</td>\n      <td>1.12283</td>\n      <td>1.12262</td>\n      <td>1.12275</td>\n      <td>244.780001</td>\n    </tr>\n    <tr>\n      <th>2019-12-31 11:59:00</th>\n      <td>1.12276</td>\n      <td>1.12281</td>\n      <td>1.12272</td>\n      <td>1.12277</td>\n      <td>219.340002</td>\n    </tr>\n  </tbody>\n</table>\n</div>"
     },
     "execution_count": 11,
     "metadata": {},
     "output_type": "execute_result"
    }
   ],
   "source": [
    "#Read online zip file\n",
    "df_zip = pd.read_csv('https://people.arcada.fi/~parland/hjd5_8amp_Gt3/EURUSD1m.zip')\n",
    "df =df_zip.copy()\n",
    "df[\"Datetimestamp\"] = pd.to_datetime(df.Date.astype(str)+' '+df.Timestamp.astype(str))\n",
    "df.drop(columns=['Date','Timestamp'],inplace=True)\n",
    "df.set_index('Datetimestamp',inplace=True)\n",
    "df.loc[df.index.weekday==6] = df.shift(-24)\n",
    "df.head()\n",
    "df.tail()"
   ]
  },
  {
   "cell_type": "code",
   "execution_count": 12,
   "metadata": {
    "ExecuteTime": {
     "end_time": "2023-09-24T18:25:03.760580Z",
     "start_time": "2023-09-24T18:25:03.588222Z"
    }
   },
   "outputs": [
    {
     "data": {
      "text/plain": "                   Open      High       Low     Close     Volume\nDatetimestamp                                                   \n2010-01-01     1.433194  1.433288  1.433089  1.433178  60.243939\n2010-01-03     1.431885  1.432103  1.431675  1.431898  24.579167\n2010-01-04     1.436431  1.436693  1.436159  1.436451  55.569028\n2010-01-05     1.440870  1.441108  1.440588  1.440881  55.477153\n2010-01-06     1.436875  1.437116  1.436592  1.436898  56.230417",
      "text/html": "<div>\n<style scoped>\n    .dataframe tbody tr th:only-of-type {\n        vertical-align: middle;\n    }\n\n    .dataframe tbody tr th {\n        vertical-align: top;\n    }\n\n    .dataframe thead th {\n        text-align: right;\n    }\n</style>\n<table border=\"1\" class=\"dataframe\">\n  <thead>\n    <tr style=\"text-align: right;\">\n      <th></th>\n      <th>Open</th>\n      <th>High</th>\n      <th>Low</th>\n      <th>Close</th>\n      <th>Volume</th>\n    </tr>\n    <tr>\n      <th>Datetimestamp</th>\n      <th></th>\n      <th></th>\n      <th></th>\n      <th></th>\n      <th></th>\n    </tr>\n  </thead>\n  <tbody>\n    <tr>\n      <th>2010-01-01</th>\n      <td>1.433194</td>\n      <td>1.433288</td>\n      <td>1.433089</td>\n      <td>1.433178</td>\n      <td>60.243939</td>\n    </tr>\n    <tr>\n      <th>2010-01-03</th>\n      <td>1.431885</td>\n      <td>1.432103</td>\n      <td>1.431675</td>\n      <td>1.431898</td>\n      <td>24.579167</td>\n    </tr>\n    <tr>\n      <th>2010-01-04</th>\n      <td>1.436431</td>\n      <td>1.436693</td>\n      <td>1.436159</td>\n      <td>1.436451</td>\n      <td>55.569028</td>\n    </tr>\n    <tr>\n      <th>2010-01-05</th>\n      <td>1.440870</td>\n      <td>1.441108</td>\n      <td>1.440588</td>\n      <td>1.440881</td>\n      <td>55.477153</td>\n    </tr>\n    <tr>\n      <th>2010-01-06</th>\n      <td>1.436875</td>\n      <td>1.437116</td>\n      <td>1.436592</td>\n      <td>1.436898</td>\n      <td>56.230417</td>\n    </tr>\n  </tbody>\n</table>\n</div>"
     },
     "execution_count": 12,
     "metadata": {},
     "output_type": "execute_result"
    }
   ],
   "source": [
    "# Dictionary for aggregations\n",
    "agg_dict = {'Open': 'first',\n",
    "          'High': 'max',\n",
    "          'Low': 'min',\n",
    "          'Close': 'last',\n",
    "          'Volume': 'mean'}\n",
    "\n",
    "# Aggregate\n",
    "df1 = df.resample('D').mean()\n",
    "df1 = df1.dropna()\n",
    "df1.head()"
   ]
  },
  {
   "cell_type": "code",
   "execution_count": 13,
   "metadata": {
    "ExecuteTime": {
     "end_time": "2023-09-24T18:25:07.081987Z",
     "start_time": "2023-09-24T18:25:07.070849Z"
    }
   },
   "outputs": [
    {
     "data": {
      "text/plain": "                   Open      High       Low     Close     Volume       LW%R\nDatetimestamp                                                              \n2019-12-26     1.109451  1.109475  1.109429  1.109451  36.627798 -79.562161\n2019-12-27     1.114447  1.114498  1.114401  1.114452  94.375684 -17.066848\n2019-12-29     1.118012  1.118057  1.117960  1.118008  39.328564  -0.481556\n2019-12-30     1.119915  1.119964  1.119867  1.119915  90.878301  -0.401054\n2019-12-31     1.120863  1.120901  1.120828  1.120866  61.131195  -0.270766",
      "text/html": "<div>\n<style scoped>\n    .dataframe tbody tr th:only-of-type {\n        vertical-align: middle;\n    }\n\n    .dataframe tbody tr th {\n        vertical-align: top;\n    }\n\n    .dataframe thead th {\n        text-align: right;\n    }\n</style>\n<table border=\"1\" class=\"dataframe\">\n  <thead>\n    <tr style=\"text-align: right;\">\n      <th></th>\n      <th>Open</th>\n      <th>High</th>\n      <th>Low</th>\n      <th>Close</th>\n      <th>Volume</th>\n      <th>LW%R</th>\n    </tr>\n    <tr>\n      <th>Datetimestamp</th>\n      <th></th>\n      <th></th>\n      <th></th>\n      <th></th>\n      <th></th>\n      <th></th>\n    </tr>\n  </thead>\n  <tbody>\n    <tr>\n      <th>2019-12-26</th>\n      <td>1.109451</td>\n      <td>1.109475</td>\n      <td>1.109429</td>\n      <td>1.109451</td>\n      <td>36.627798</td>\n      <td>-79.562161</td>\n    </tr>\n    <tr>\n      <th>2019-12-27</th>\n      <td>1.114447</td>\n      <td>1.114498</td>\n      <td>1.114401</td>\n      <td>1.114452</td>\n      <td>94.375684</td>\n      <td>-17.066848</td>\n    </tr>\n    <tr>\n      <th>2019-12-29</th>\n      <td>1.118012</td>\n      <td>1.118057</td>\n      <td>1.117960</td>\n      <td>1.118008</td>\n      <td>39.328564</td>\n      <td>-0.481556</td>\n    </tr>\n    <tr>\n      <th>2019-12-30</th>\n      <td>1.119915</td>\n      <td>1.119964</td>\n      <td>1.119867</td>\n      <td>1.119915</td>\n      <td>90.878301</td>\n      <td>-0.401054</td>\n    </tr>\n    <tr>\n      <th>2019-12-31</th>\n      <td>1.120863</td>\n      <td>1.120901</td>\n      <td>1.120828</td>\n      <td>1.120866</td>\n      <td>61.131195</td>\n      <td>-0.270766</td>\n    </tr>\n  </tbody>\n</table>\n</div>"
     },
     "execution_count": 13,
     "metadata": {},
     "output_type": "execute_result"
    }
   ],
   "source": [
    "#Function for Williams %R Calculation\n",
    "def find_LWR(high, low, close, lookback):\n",
    "    highh = high.rolling(lookback).max() \n",
    "    lowl = low.rolling(lookback).min()\n",
    "    lw = -100 * ((highh - close) / (highh - lowl))\n",
    "    return lw\n",
    "\n",
    "df1['LW%R'] = find_LWR(df1['High'], df1['Low'], df1['Close'], 14)\n",
    "df1.tail()"
   ]
  },
  {
   "cell_type": "code",
   "execution_count": 14,
   "metadata": {
    "ExecuteTime": {
     "end_time": "2023-09-24T18:25:08.288689Z",
     "start_time": "2023-09-24T18:25:08.275575Z"
    }
   },
   "outputs": [
    {
     "data": {
      "text/plain": "                   Open      High       Low     Close    Volume      LW%R  \\\nDatetimestamp                                                               \n2010-01-17     1.587647  1.588005  1.587138  1.587703 -0.925410 -0.669819   \n2010-01-18     1.599762  1.600399  1.598787  1.599919 -0.739638 -0.485457   \n2010-01-19     1.562740  1.563538  1.561460  1.562768 -0.746704 -1.216398   \n2010-01-20     1.413310  1.414248  1.411817  1.413281 -0.738785 -1.235549   \n2010-01-21     1.351128  1.352218  1.349573  1.351191 -0.746857 -1.238339   \n...                 ...       ...       ...       ...       ...       ...   \n2019-12-25    -1.223294 -1.223908 -1.222696 -1.223287 -1.155373 -1.027106   \n2019-12-26    -1.215438 -1.216041 -1.214834 -1.215440 -0.907243 -0.733911   \n2019-12-27    -1.172584 -1.172951 -1.172172 -1.172544 -0.398887  0.868865   \n2019-12-29    -1.142001 -1.142428 -1.141639 -1.142040 -0.883468  1.294217   \n2019-12-30    -1.125680 -1.126068 -1.125271 -1.125673 -0.429674  1.296281   \n\n                  label  \nDatetimestamp            \n2010-01-17     1.599919  \n2010-01-18     1.562768  \n2010-01-19     1.413281  \n2010-01-20     1.351191  \n2010-01-21     1.390263  \n...                 ...  \n2019-12-25    -1.215440  \n2019-12-26    -1.172544  \n2019-12-27    -1.142040  \n2019-12-29    -1.125673  \n2019-12-30    -1.117521  \n\n[3114 rows x 7 columns]",
      "text/html": "<div>\n<style scoped>\n    .dataframe tbody tr th:only-of-type {\n        vertical-align: middle;\n    }\n\n    .dataframe tbody tr th {\n        vertical-align: top;\n    }\n\n    .dataframe thead th {\n        text-align: right;\n    }\n</style>\n<table border=\"1\" class=\"dataframe\">\n  <thead>\n    <tr style=\"text-align: right;\">\n      <th></th>\n      <th>Open</th>\n      <th>High</th>\n      <th>Low</th>\n      <th>Close</th>\n      <th>Volume</th>\n      <th>LW%R</th>\n      <th>label</th>\n    </tr>\n    <tr>\n      <th>Datetimestamp</th>\n      <th></th>\n      <th></th>\n      <th></th>\n      <th></th>\n      <th></th>\n      <th></th>\n      <th></th>\n    </tr>\n  </thead>\n  <tbody>\n    <tr>\n      <th>2010-01-17</th>\n      <td>1.587647</td>\n      <td>1.588005</td>\n      <td>1.587138</td>\n      <td>1.587703</td>\n      <td>-0.925410</td>\n      <td>-0.669819</td>\n      <td>1.599919</td>\n    </tr>\n    <tr>\n      <th>2010-01-18</th>\n      <td>1.599762</td>\n      <td>1.600399</td>\n      <td>1.598787</td>\n      <td>1.599919</td>\n      <td>-0.739638</td>\n      <td>-0.485457</td>\n      <td>1.562768</td>\n    </tr>\n    <tr>\n      <th>2010-01-19</th>\n      <td>1.562740</td>\n      <td>1.563538</td>\n      <td>1.561460</td>\n      <td>1.562768</td>\n      <td>-0.746704</td>\n      <td>-1.216398</td>\n      <td>1.413281</td>\n    </tr>\n    <tr>\n      <th>2010-01-20</th>\n      <td>1.413310</td>\n      <td>1.414248</td>\n      <td>1.411817</td>\n      <td>1.413281</td>\n      <td>-0.738785</td>\n      <td>-1.235549</td>\n      <td>1.351191</td>\n    </tr>\n    <tr>\n      <th>2010-01-21</th>\n      <td>1.351128</td>\n      <td>1.352218</td>\n      <td>1.349573</td>\n      <td>1.351191</td>\n      <td>-0.746857</td>\n      <td>-1.238339</td>\n      <td>1.390263</td>\n    </tr>\n    <tr>\n      <th>...</th>\n      <td>...</td>\n      <td>...</td>\n      <td>...</td>\n      <td>...</td>\n      <td>...</td>\n      <td>...</td>\n      <td>...</td>\n    </tr>\n    <tr>\n      <th>2019-12-25</th>\n      <td>-1.223294</td>\n      <td>-1.223908</td>\n      <td>-1.222696</td>\n      <td>-1.223287</td>\n      <td>-1.155373</td>\n      <td>-1.027106</td>\n      <td>-1.215440</td>\n    </tr>\n    <tr>\n      <th>2019-12-26</th>\n      <td>-1.215438</td>\n      <td>-1.216041</td>\n      <td>-1.214834</td>\n      <td>-1.215440</td>\n      <td>-0.907243</td>\n      <td>-0.733911</td>\n      <td>-1.172544</td>\n    </tr>\n    <tr>\n      <th>2019-12-27</th>\n      <td>-1.172584</td>\n      <td>-1.172951</td>\n      <td>-1.172172</td>\n      <td>-1.172544</td>\n      <td>-0.398887</td>\n      <td>0.868865</td>\n      <td>-1.142040</td>\n    </tr>\n    <tr>\n      <th>2019-12-29</th>\n      <td>-1.142001</td>\n      <td>-1.142428</td>\n      <td>-1.141639</td>\n      <td>-1.142040</td>\n      <td>-0.883468</td>\n      <td>1.294217</td>\n      <td>-1.125673</td>\n    </tr>\n    <tr>\n      <th>2019-12-30</th>\n      <td>-1.125680</td>\n      <td>-1.126068</td>\n      <td>-1.125271</td>\n      <td>-1.125673</td>\n      <td>-0.429674</td>\n      <td>1.296281</td>\n      <td>-1.117521</td>\n    </tr>\n  </tbody>\n</table>\n<p>3114 rows × 7 columns</p>\n</div>"
     },
     "execution_count": 14,
     "metadata": {},
     "output_type": "execute_result"
    }
   ],
   "source": [
    "#Standardization with 80% of data rows\n",
    "\n",
    "stdz_80 = int(0.8*len(df1.index))\n",
    "stdz_mean = df1.head(stdz_80).mean()\n",
    "stdz_std = df1.head(stdz_80).std()\n",
    "\n",
    "df1_stdz = (df1 - stdz_mean)/stdz_std\n",
    "\n",
    "df1_stdz[\"label\"]=df1_stdz[\"Close\"].shift(-1)\n",
    "\n",
    "df1_stdz = df1_stdz.dropna()\n",
    "df1_stdz"
   ]
  },
  {
   "cell_type": "code",
   "execution_count": 15,
   "metadata": {
    "ExecuteTime": {
     "end_time": "2023-09-24T18:25:09.262040Z",
     "start_time": "2023-09-24T18:25:09.248671Z"
    }
   },
   "outputs": [
    {
     "data": {
      "text/plain": "                  Close      LW%R     label\nDatetimestamp                              \n2010-01-17     1.587703 -0.669819  1.599919\n2010-01-18     1.599919 -0.485457  1.562768\n2010-01-19     1.562768 -1.216398  1.413281\n2010-01-20     1.413281 -1.235549  1.351191\n2010-01-21     1.351191 -1.238339  1.390263",
      "text/html": "<div>\n<style scoped>\n    .dataframe tbody tr th:only-of-type {\n        vertical-align: middle;\n    }\n\n    .dataframe tbody tr th {\n        vertical-align: top;\n    }\n\n    .dataframe thead th {\n        text-align: right;\n    }\n</style>\n<table border=\"1\" class=\"dataframe\">\n  <thead>\n    <tr style=\"text-align: right;\">\n      <th></th>\n      <th>Close</th>\n      <th>LW%R</th>\n      <th>label</th>\n    </tr>\n    <tr>\n      <th>Datetimestamp</th>\n      <th></th>\n      <th></th>\n      <th></th>\n    </tr>\n  </thead>\n  <tbody>\n    <tr>\n      <th>2010-01-17</th>\n      <td>1.587703</td>\n      <td>-0.669819</td>\n      <td>1.599919</td>\n    </tr>\n    <tr>\n      <th>2010-01-18</th>\n      <td>1.599919</td>\n      <td>-0.485457</td>\n      <td>1.562768</td>\n    </tr>\n    <tr>\n      <th>2010-01-19</th>\n      <td>1.562768</td>\n      <td>-1.216398</td>\n      <td>1.413281</td>\n    </tr>\n    <tr>\n      <th>2010-01-20</th>\n      <td>1.413281</td>\n      <td>-1.235549</td>\n      <td>1.351191</td>\n    </tr>\n    <tr>\n      <th>2010-01-21</th>\n      <td>1.351191</td>\n      <td>-1.238339</td>\n      <td>1.390263</td>\n    </tr>\n  </tbody>\n</table>\n</div>"
     },
     "execution_count": 15,
     "metadata": {},
     "output_type": "execute_result"
    }
   ],
   "source": [
    "#drop Open, High, Low, Volume\n",
    "df1_linear = df1_stdz[['Close','LW%R','label']]\n",
    "df1_linear.head()"
   ]
  },
  {
   "cell_type": "code",
   "execution_count": 16,
   "metadata": {
    "ExecuteTime": {
     "end_time": "2023-09-24T18:25:10.228512Z",
     "start_time": "2023-09-24T18:25:10.222576Z"
    }
   },
   "outputs": [
    {
     "name": "stdout",
     "output_type": "stream",
     "text": [
      "[[ 1.58770258 -0.66981906]\n",
      " [ 1.59991934 -0.48545671]\n",
      " [ 1.56276823 -1.21639774]\n",
      " ...\n",
      " [-0.4581447   1.30051735]\n",
      " [-0.42972007  1.30062041]\n",
      " [-0.4023421   1.30114504]]\n",
      "[ 1.59991934  1.56276823  1.41328081 ... -0.42972007 -0.4023421\n",
      " -0.41178316]\n"
     ]
    },
    {
     "name": "stderr",
     "output_type": "stream",
     "text": [
      "/var/folders/61/39zk8n_x5l32mb7rjkls_4n00000gn/T/ipykernel_3261/4203907780.py:6: SettingWithCopyWarning: \n",
      "A value is trying to be set on a copy of a slice from a DataFrame\n",
      "\n",
      "See the caveats in the documentation: https://pandas.pydata.org/pandas-docs/stable/user_guide/indexing.html#returning-a-view-versus-a-copy\n",
      "  X_train.drop('label', inplace=True, axis=1)\n",
      "/var/folders/61/39zk8n_x5l32mb7rjkls_4n00000gn/T/ipykernel_3261/4203907780.py:9: SettingWithCopyWarning: \n",
      "A value is trying to be set on a copy of a slice from a DataFrame\n",
      "\n",
      "See the caveats in the documentation: https://pandas.pydata.org/pandas-docs/stable/user_guide/indexing.html#returning-a-view-versus-a-copy\n",
      "  X_test.drop('label', inplace=True, axis=1)\n"
     ]
    }
   ],
   "source": [
    "# to update stdz_80 to 80% of df1_linear (NAN rows deleted)\n",
    "stdz_80 = int(0.8*len(df1_linear.index))\n",
    "\n",
    "# Now data is standardised, lets split X_train, y_train, X_test, y_test as below-\n",
    "X_train = df1_linear.head(stdz_80)\n",
    "X_train.drop('label', inplace=True, axis=1)\n",
    "\n",
    "X_test = df1_linear.tail(len(df1_linear.index)-stdz_80)\n",
    "X_test.drop('label', inplace=True, axis=1)\n",
    "\n",
    "y_train = df1_linear['label'].head(stdz_80)\n",
    "y_test = df1_linear['label'].tail(len(df1_linear.index)-stdz_80)\n",
    " \n",
    "#create numpy arrays from the train, test dataframes\n",
    "X_train = X_train.to_numpy()\n",
    "X_test = X_test.to_numpy()\n",
    "y_train = y_train.to_numpy()\n",
    "y_test = y_test.to_numpy()\n",
    "\n"
   ]
  },
  {
   "cell_type": "code",
   "execution_count": 18,
   "metadata": {
    "ExecuteTime": {
     "end_time": "2023-09-24T18:26:47.435554Z",
     "start_time": "2023-09-24T18:26:47.425684Z"
    }
   },
   "outputs": [
    {
     "name": "stdout",
     "output_type": "stream",
     "text": [
      "[[ 1.58770258 -0.66981906]\n",
      " [ 1.59991934 -0.48545671]\n",
      " [ 1.56276823 -1.21639774]\n",
      " ...\n",
      " [-0.4581447   1.30051735]\n",
      " [-0.42972007  1.30062041]\n",
      " [-0.4023421   1.30114504]]\n",
      "[ 1.59991934  1.56276823  1.41328081 ... -0.42972007 -0.4023421\n",
      " -0.41178316]\n"
     ]
    }
   ],
   "source": [
    "print(X_train)\n",
    "print(y_train)"
   ]
  },
  {
   "cell_type": "code",
   "execution_count": null,
   "outputs": [],
   "source": [
    "#create linear regression object\n",
    "regr = LinearRegression()"
   ],
   "metadata": {
    "collapsed": false
   }
  },
  {
   "cell_type": "code",
   "execution_count": 17,
   "outputs": [
    {
     "data": {
      "text/plain": "LinearRegression()",
      "text/html": "<style>#sk-container-id-1 {color: black;}#sk-container-id-1 pre{padding: 0;}#sk-container-id-1 div.sk-toggleable {background-color: white;}#sk-container-id-1 label.sk-toggleable__label {cursor: pointer;display: block;width: 100%;margin-bottom: 0;padding: 0.3em;box-sizing: border-box;text-align: center;}#sk-container-id-1 label.sk-toggleable__label-arrow:before {content: \"▸\";float: left;margin-right: 0.25em;color: #696969;}#sk-container-id-1 label.sk-toggleable__label-arrow:hover:before {color: black;}#sk-container-id-1 div.sk-estimator:hover label.sk-toggleable__label-arrow:before {color: black;}#sk-container-id-1 div.sk-toggleable__content {max-height: 0;max-width: 0;overflow: hidden;text-align: left;background-color: #f0f8ff;}#sk-container-id-1 div.sk-toggleable__content pre {margin: 0.2em;color: black;border-radius: 0.25em;background-color: #f0f8ff;}#sk-container-id-1 input.sk-toggleable__control:checked~div.sk-toggleable__content {max-height: 200px;max-width: 100%;overflow: auto;}#sk-container-id-1 input.sk-toggleable__control:checked~label.sk-toggleable__label-arrow:before {content: \"▾\";}#sk-container-id-1 div.sk-estimator input.sk-toggleable__control:checked~label.sk-toggleable__label {background-color: #d4ebff;}#sk-container-id-1 div.sk-label input.sk-toggleable__control:checked~label.sk-toggleable__label {background-color: #d4ebff;}#sk-container-id-1 input.sk-hidden--visually {border: 0;clip: rect(1px 1px 1px 1px);clip: rect(1px, 1px, 1px, 1px);height: 1px;margin: -1px;overflow: hidden;padding: 0;position: absolute;width: 1px;}#sk-container-id-1 div.sk-estimator {font-family: monospace;background-color: #f0f8ff;border: 1px dotted black;border-radius: 0.25em;box-sizing: border-box;margin-bottom: 0.5em;}#sk-container-id-1 div.sk-estimator:hover {background-color: #d4ebff;}#sk-container-id-1 div.sk-parallel-item::after {content: \"\";width: 100%;border-bottom: 1px solid gray;flex-grow: 1;}#sk-container-id-1 div.sk-label:hover label.sk-toggleable__label {background-color: #d4ebff;}#sk-container-id-1 div.sk-serial::before {content: \"\";position: absolute;border-left: 1px solid gray;box-sizing: border-box;top: 0;bottom: 0;left: 50%;z-index: 0;}#sk-container-id-1 div.sk-serial {display: flex;flex-direction: column;align-items: center;background-color: white;padding-right: 0.2em;padding-left: 0.2em;position: relative;}#sk-container-id-1 div.sk-item {position: relative;z-index: 1;}#sk-container-id-1 div.sk-parallel {display: flex;align-items: stretch;justify-content: center;background-color: white;position: relative;}#sk-container-id-1 div.sk-item::before, #sk-container-id-1 div.sk-parallel-item::before {content: \"\";position: absolute;border-left: 1px solid gray;box-sizing: border-box;top: 0;bottom: 0;left: 50%;z-index: -1;}#sk-container-id-1 div.sk-parallel-item {display: flex;flex-direction: column;z-index: 1;position: relative;background-color: white;}#sk-container-id-1 div.sk-parallel-item:first-child::after {align-self: flex-end;width: 50%;}#sk-container-id-1 div.sk-parallel-item:last-child::after {align-self: flex-start;width: 50%;}#sk-container-id-1 div.sk-parallel-item:only-child::after {width: 0;}#sk-container-id-1 div.sk-dashed-wrapped {border: 1px dashed gray;margin: 0 0.4em 0.5em 0.4em;box-sizing: border-box;padding-bottom: 0.4em;background-color: white;}#sk-container-id-1 div.sk-label label {font-family: monospace;font-weight: bold;display: inline-block;line-height: 1.2em;}#sk-container-id-1 div.sk-label-container {text-align: center;}#sk-container-id-1 div.sk-container {/* jupyter's `normalize.less` sets `[hidden] { display: none; }` but bootstrap.min.css set `[hidden] { display: none !important; }` so we also need the `!important` here to be able to override the default hidden behavior on the sphinx rendered scikit-learn.org. See: https://github.com/scikit-learn/scikit-learn/issues/21755 */display: inline-block !important;position: relative;}#sk-container-id-1 div.sk-text-repr-fallback {display: none;}</style><div id=\"sk-container-id-1\" class=\"sk-top-container\"><div class=\"sk-text-repr-fallback\"><pre>LinearRegression()</pre><b>In a Jupyter environment, please rerun this cell to show the HTML representation or trust the notebook. <br />On GitHub, the HTML representation is unable to render, please try loading this page with nbviewer.org.</b></div><div class=\"sk-container\" hidden><div class=\"sk-item\"><div class=\"sk-estimator sk-toggleable\"><input class=\"sk-toggleable__control sk-hidden--visually\" id=\"sk-estimator-id-1\" type=\"checkbox\" checked><label for=\"sk-estimator-id-1\" class=\"sk-toggleable__label sk-toggleable__label-arrow\">LinearRegression</label><div class=\"sk-toggleable__content\"><pre>LinearRegression()</pre></div></div></div></div></div>"
     },
     "metadata": {},
     "output_type": "display_data"
    },
    {
     "name": "stdout",
     "output_type": "stream",
     "text": [
      "Training set score: 0.9979\n",
      "Test set score: 0.9943\n",
      "(623, 2)\n",
      "(623,)\n"
     ]
    }
   ],
   "source": [
    "\n",
    "#Train the model using the training sample\n",
    "regr.fit(X_train, y_train)\n",
    "display(regr)\n",
    "\n",
    "#Calculate R-squared for both test / train samples\n",
    "print('Training set score: ' + str(round(regr.score(X_train,y_train),4)))\n",
    "print('Test set score: ' + str(round(regr.score(X_test,y_test),4)))\n",
    "\n",
    "#Make predictions using the test sample\n",
    "y_pred_scaled = regr.predict(X_test)\n",
    "print(X_test.shape)\n",
    "print(y_pred_scaled.shape)"
   ],
   "metadata": {
    "collapsed": false,
    "ExecuteTime": {
     "start_time": "2023-09-24T18:25:13.523569Z"
    }
   }
  },
  {
   "cell_type": "code",
   "execution_count": 13,
   "metadata": {},
   "outputs": [],
   "source": [
    "#Inverse the scale back to the exchange rates\n",
    "y_pred_lin = y_pred_scaled * stdz_std['Close'] + stdz_mean['Close']"
   ]
  },
  {
   "cell_type": "code",
   "execution_count": 14,
   "metadata": {},
   "outputs": [
    {
     "data": {
      "text/plain": "LinearRegression()",
      "text/html": "<style>#sk-container-id-2 {color: black;background-color: white;}#sk-container-id-2 pre{padding: 0;}#sk-container-id-2 div.sk-toggleable {background-color: white;}#sk-container-id-2 label.sk-toggleable__label {cursor: pointer;display: block;width: 100%;margin-bottom: 0;padding: 0.3em;box-sizing: border-box;text-align: center;}#sk-container-id-2 label.sk-toggleable__label-arrow:before {content: \"▸\";float: left;margin-right: 0.25em;color: #696969;}#sk-container-id-2 label.sk-toggleable__label-arrow:hover:before {color: black;}#sk-container-id-2 div.sk-estimator:hover label.sk-toggleable__label-arrow:before {color: black;}#sk-container-id-2 div.sk-toggleable__content {max-height: 0;max-width: 0;overflow: hidden;text-align: left;background-color: #f0f8ff;}#sk-container-id-2 div.sk-toggleable__content pre {margin: 0.2em;color: black;border-radius: 0.25em;background-color: #f0f8ff;}#sk-container-id-2 input.sk-toggleable__control:checked~div.sk-toggleable__content {max-height: 200px;max-width: 100%;overflow: auto;}#sk-container-id-2 input.sk-toggleable__control:checked~label.sk-toggleable__label-arrow:before {content: \"▾\";}#sk-container-id-2 div.sk-estimator input.sk-toggleable__control:checked~label.sk-toggleable__label {background-color: #d4ebff;}#sk-container-id-2 div.sk-label input.sk-toggleable__control:checked~label.sk-toggleable__label {background-color: #d4ebff;}#sk-container-id-2 input.sk-hidden--visually {border: 0;clip: rect(1px 1px 1px 1px);clip: rect(1px, 1px, 1px, 1px);height: 1px;margin: -1px;overflow: hidden;padding: 0;position: absolute;width: 1px;}#sk-container-id-2 div.sk-estimator {font-family: monospace;background-color: #f0f8ff;border: 1px dotted black;border-radius: 0.25em;box-sizing: border-box;margin-bottom: 0.5em;}#sk-container-id-2 div.sk-estimator:hover {background-color: #d4ebff;}#sk-container-id-2 div.sk-parallel-item::after {content: \"\";width: 100%;border-bottom: 1px solid gray;flex-grow: 1;}#sk-container-id-2 div.sk-label:hover label.sk-toggleable__label {background-color: #d4ebff;}#sk-container-id-2 div.sk-serial::before {content: \"\";position: absolute;border-left: 1px solid gray;box-sizing: border-box;top: 0;bottom: 0;left: 50%;z-index: 0;}#sk-container-id-2 div.sk-serial {display: flex;flex-direction: column;align-items: center;background-color: white;padding-right: 0.2em;padding-left: 0.2em;position: relative;}#sk-container-id-2 div.sk-item {position: relative;z-index: 1;}#sk-container-id-2 div.sk-parallel {display: flex;align-items: stretch;justify-content: center;background-color: white;position: relative;}#sk-container-id-2 div.sk-item::before, #sk-container-id-2 div.sk-parallel-item::before {content: \"\";position: absolute;border-left: 1px solid gray;box-sizing: border-box;top: 0;bottom: 0;left: 50%;z-index: -1;}#sk-container-id-2 div.sk-parallel-item {display: flex;flex-direction: column;z-index: 1;position: relative;background-color: white;}#sk-container-id-2 div.sk-parallel-item:first-child::after {align-self: flex-end;width: 50%;}#sk-container-id-2 div.sk-parallel-item:last-child::after {align-self: flex-start;width: 50%;}#sk-container-id-2 div.sk-parallel-item:only-child::after {width: 0;}#sk-container-id-2 div.sk-dashed-wrapped {border: 1px dashed gray;margin: 0 0.4em 0.5em 0.4em;box-sizing: border-box;padding-bottom: 0.4em;background-color: white;}#sk-container-id-2 div.sk-label label {font-family: monospace;font-weight: bold;display: inline-block;line-height: 1.2em;}#sk-container-id-2 div.sk-label-container {text-align: center;}#sk-container-id-2 div.sk-container {/* jupyter's `normalize.less` sets `[hidden] { display: none; }` but bootstrap.min.css set `[hidden] { display: none !important; }` so we also need the `!important` here to be able to override the default hidden behavior on the sphinx rendered scikit-learn.org. See: https://github.com/scikit-learn/scikit-learn/issues/21755 */display: inline-block !important;position: relative;}#sk-container-id-2 div.sk-text-repr-fallback {display: none;}</style><div id=\"sk-container-id-2\" class=\"sk-top-container\"><div class=\"sk-text-repr-fallback\"><pre>LinearRegression()</pre><b>In a Jupyter environment, please rerun this cell to show the HTML representation or trust the notebook. <br />On GitHub, the HTML representation is unable to render, please try loading this page with nbviewer.org.</b></div><div class=\"sk-container\" hidden><div class=\"sk-item\"><div class=\"sk-estimator sk-toggleable\"><input class=\"sk-toggleable__control sk-hidden--visually\" id=\"sk-estimator-id-2\" type=\"checkbox\" checked><label for=\"sk-estimator-id-2\" class=\"sk-toggleable__label sk-toggleable__label-arrow\">LinearRegression</label><div class=\"sk-toggleable__content\"><pre>LinearRegression()</pre></div></div></div></div></div>"
     },
     "metadata": {},
     "output_type": "display_data"
    },
    {
     "name": "stdout",
     "output_type": "stream",
     "text": [
      "Training set score: 0.9965\n",
      "Test set score: 0.9899\n",
      "(623, 1)\n",
      "(623,)\n"
     ]
    }
   ],
   "source": [
    "#drop William's R and calculate linear regression again\n",
    "X_train_C = X_train[:,0].reshape(-1,1)\n",
    "X_test_C = X_test[:,0].reshape(-1,1)\n",
    "\n",
    "#create linear regression object\n",
    "regr_C = LinearRegression()\n",
    "\n",
    "#Train the model using the training sample\n",
    "regr_C.fit(X_train_C, y_train)\n",
    "display(regr_C)\n",
    " \n",
    "#Calculate R-squared for both test / train samples\n",
    "print('Training set score: ' + str(round(regr_C.score(X_train_C,y_train),4)))\n",
    "print('Test set score: ' + str(round(regr_C.score(X_test_C,y_test),4)))\n",
    "\n",
    "#Make predictions using the test sample\n",
    "y_pred_scaled_C = regr_C.predict(X_test_C)\n",
    "print(X_test_C.shape)\n",
    "print(y_pred_scaled_C.shape)"
   ]
  },
  {
   "cell_type": "code",
   "execution_count": null,
   "outputs": [],
   "source": [],
   "metadata": {
    "collapsed": false
   }
  }
 ],
 "metadata": {
  "kernelspec": {
   "display_name": "Python 3",
   "language": "python",
   "name": "python3"
  },
  "language_info": {
   "codemirror_mode": {
    "name": "ipython",
    "version": 3
   },
   "file_extension": ".py",
   "mimetype": "text/x-python",
   "name": "python",
   "nbconvert_exporter": "python",
   "pygments_lexer": "ipython3",
   "version": "3.7.6"
  }
 },
 "nbformat": 4,
 "nbformat_minor": 4
}
