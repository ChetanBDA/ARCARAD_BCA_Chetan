{
 "cells": [
  {
   "cell_type": "markdown",
   "source": [
    "<a id='g1'></a>\n",
    "# Grade 1\n",
    "## Implement a complete process for forecasting the one-day-ahead Close value of the EUR/USD exchange rate, using a historical dataset with one-minute resolution.\n",
    "\n",
    "You should do the following steps:\n",
    "- Download once the [EUR/USD data set](https://people.arcada.fi/~parland/hjd5_8amp_Gt3/EURUSD1m.zip) (52Mb) and convert the index to [DatetimeIndex](https://pandas.pydata.org/docs/reference/api/pandas.DatetimeIndex.html)\n",
    "`pd.read_csv(\"https://people.arcada.fi/~parland/hjd5_8amp_Gt3/EURUSD1m.zip\", compression='zip', [other usefull parameters...])`\n",
    "\n",
    "- Subsample data to one-day time steps, ensuring you also include data from weekends.\n",
    "\n",
    "- Create a 'Label' column for your forecast by shifting the Close value one step forward. You will be predicting one day ahead.\n",
    "\n",
    "- Split the data into an 80/20 ratio (train/test). Be cautious: you are splitting a time series.\n",
    "\n",
    "\n",
    "- [Normalize or standardize](https://scikit-learn.org/stable/modules/preprocessing.html) wisely so you don't allow information leakage to the test subset. Note, that utility class [Normalizer](https://scikit-learn.org/stable/modules/generated/sklearn.preprocessing.Normalizer.html) performs scaling **individual samples to have unit norm**, so it is not useful for certain tasks. Write your own function or check [MinMaxScaler](https://scikit-learn.org/stable/modules/generated/sklearn.preprocessing.MinMaxScaler.html) or [StandardScaler](https://scikit-learn.org/stable/modules/generated/sklearn.preprocessing.StandardScaler.html). \n",
    "\n",
    "- Please check in which order you perform split and scale. The order in which you perform the split and scaling is crucial, especially for time series data, and each approach has its pros and cons:\n",
    "\n",
    "1. **Data → X, y → scale → split → X_test, y_test ; X_train, y_train**: \n",
    "    - **Pros**: Easier to implement because you're scaling everything all at once.\n",
    "    - **Cons**: You're scaling the test set based on the statistics of the entire dataset, including the test set itself, which is often considered a form of data leakage. This can potentially give you overly optimistic evaluations of your model's performance.\n",
    "\n",
    "2. **Data → X, y → split → scale → X_test, y_test ; X_train, y_train**:\n",
    "    - **Pros**: You're not leaking information from the test set into the training set. The training set is scaled based on its own statistics, and the test set is similarly scaled based on the training set's statistics.\n",
    "    - **Cons**: A bit more cumbersome to implement, as you have to fit the scaler to the training data and then use it to transform both the training and test data.\n",
    "\n",
    "**Note**: When you transform the data, you indeed have to transform your forecasts back into their original form to make them interpretable. Saving the parameters used for normalization or standardization is essential for this \"de-normalization\" process. This is especially important in the second approach, where the test set is scaled based on the statistics of the training set.\n",
    "\n",
    "- Calculate the technical analysis feature [Larry William’s %R](https://www.investopedia.com/terms/w/williamsr.asp) from the paper [Predicting the Direction of Stock Market Index Movement Using an Optimized Artificial Neural Network Model](https://www.ncbi.nlm.nih.gov/pmc/articles/PMC4873195) (implement in code, insert values in a complementary column). \n",
    "\n",
    "**Note that you need to implement your own calculation of each feature and be able to explain the code.**\n",
    "\n",
    "- Drop other data than the Close and the features for training and inference. You don't want to feed time-column into the model, it's usually not a feature to base your prediction on. \n",
    "\n",
    "- Fit a [linear model](https://scikit-learn.org/stable/modules/linear_model.html#ordinary-least-squares) to the training data\n",
    "\n",
    "- Forecast one day ahead based on the test data\n",
    "\n",
    "- Calculate the [R² error](https://en.wikipedia.org/wiki/Coefficient_of_determination) on both the training data set and the test. Please format numbers to four [significant digits](https://en.wikipedia.org/wiki/Significant_figures). As a check you may note that values suppose to be in the range 0.975 … 0.993 for test and 0.995 … 0.998 for train. If you get R² error outside these ranges it **indicates** that you are highly likely to have an error in your program logic.\n",
    "\n",
    "**NB! You may also get an expected result by performing several cumulative mistakes. Imagine a question:**  \n",
    "\n",
    "$$ (2+1)\\times 3 = ?$$\n",
    "\n",
    "$$ \\text{Erroneous attempt: each step is wrong, the end result is right...} $$\n",
    "$$ 2+1=4 $$\n",
    "$$ 4\\times 3 = 9 $$\n",
    "$$ \\text{Answer: } 9 $$\n",
    "\n",
    "**The objective of this assignment is not to achieve a correct result but to achieve the result correctly.**\n",
    "\n",
    "- Compare the R² errors for test and train and explain the outcome. \n",
    "\n",
    "- Extra: Test your model (get R² errors for test and train without LW%R, just Close column). Comment and explain the result. A reasonable explanation will compensate for one error in the following grades.\n",
    "\n",
    "### **Larry William’s %R**\n",
    "\n",
    "$ (H_n − C_t)/(H_n − L_n)\\times100 $\n",
    "\n",
    "Where:\n",
    "\n",
    "- $ H_n $: The highest price reached during the specified period $ n $.\n",
    "- $ C_t $: The closing price at time $ t $.\n",
    "- $ L_n $: The lowest price reached during the specified period $ n $.\n",
    "\n",
    "The idea behind the %R indicator is to measure the level of the close relative to the range of prices (high to low) over a set period of time. \n",
    "### Coefficient of determination ($R^2$)\n",
    "\n",
    "$$R^2 = 1 - \\frac {SS_{Resid}}{SS_{Tot}}$$\n",
    "\n",
    "#### Residual Sum of Squares: $SS_{Resid} = \\sum_{i} (y_i - \\hat{y_i})^2$\n",
    "\n",
    "#### Total Sum of Squares: $SS_{Tot} = \\sum_{i} (y_i - \\bar{y})^2$\n",
    "\n",
    "#### A baseline model, which always predicts $\\bar {y}$, will have $R^2 = 0$\n",
    "\n",
    "Below is an example code for a Disparity Index feature calculation for 5 days: $ \\frac {C_t}  {\\text{MA}_5} \\times 100 $\n",
    "([See the explanation](https://www.investopedia.com/terms/d/disparityindex.asp))\n",
    "# example\n",
    "def disparity_5(df):\n",
    "    return 100 * df['Close'] / df['Close'].rolling(window=5).mean()\n",
    "\n",
    "df['Disparity_5'] = disparity_5(df)\n",
    "\n"
   ],
   "metadata": {
    "collapsed": false
   },
   "id": "629256b56eef9599"
  },
  {
   "cell_type": "code",
   "execution_count": 587,
   "outputs": [
    {
     "name": "stdout",
     "output_type": "stream",
     "text": []
    }
   ],
   "source": [
    "# First upgrade the environment.\n",
    "# import pip\n",
    "from subprocess import run\n",
    "# add & upgrade what you will need\n",
    "modules =[\n",
    "    'pandas_market_calendars',\n",
    "    'plotly',\n",
    "    'numpy',\n",
    "    'scikit-learn',\n",
    "    'pandas',\n",
    "    'matplotlib'\n",
    "]\n",
    "proc = run(f'pip install {\" \".join(modules)} --upgrade --no-input',\n",
    "           shell=True,\n",
    "           text=True,\n",
    "           capture_output=True,\n",
    "           timeout=120) #a couple of minutes\n",
    "print(proc.stderr)\n"
   ],
   "metadata": {
    "collapsed": false,
    "ExecuteTime": {
     "end_time": "2023-10-01T19:49:52.969056Z",
     "start_time": "2023-10-01T19:49:49.536937Z"
    }
   },
   "id": "initial_id"
  },
  {
   "cell_type": "code",
   "execution_count": 588,
   "outputs": [],
   "source": [
    "import pandas as pd\n",
    "from pathlib import Path\n",
    "import numpy as np\n",
    "\n",
    "import matplotlib\n",
    "import matplotlib.pyplot as plt\n",
    "from matplotlib.ticker import ScalarFormatter, FuncFormatter, StrMethodFormatter\n",
    "%matplotlib inline\n",
    "\n",
    "import plotly as ply\n",
    "import plotly.graph_objects as go\n",
    "\n",
    "import sklearn\n",
    "from sklearn import preprocessing\n",
    "from sklearn.preprocessing import StandardScaler, Normalizer, scale\n",
    "from sklearn.linear_model import LinearRegression\n",
    "from sklearn.model_selection import TimeSeriesSplit\n",
    "\n",
    "from functools import reduce\n",
    "from operator import mul\n",
    "from pprint import PrettyPrinter\n",
    "pprint = PrettyPrinter().pprint"
   ],
   "metadata": {
    "collapsed": false,
    "ExecuteTime": {
     "end_time": "2023-10-01T19:49:57.505506Z",
     "start_time": "2023-10-01T19:49:57.487544Z"
    }
   },
   "id": "e99db12d54baba2d"
  },
  {
   "cell_type": "code",
   "execution_count": 589,
   "outputs": [],
   "source": [
    "#Import the file from the source\n",
    "\n",
    "df=pd.read_csv(\"https://people.arcada.fi/~parland/hjd5_8amp_Gt3/EURUSD1m.zip\")"
   ],
   "metadata": {
    "collapsed": false,
    "ExecuteTime": {
     "end_time": "2023-10-01T19:50:07.092762Z",
     "start_time": "2023-10-01T19:49:59.537450Z"
    }
   },
   "id": "1974075064cdd21a"
  },
  {
   "cell_type": "code",
   "execution_count": 590,
   "outputs": [
    {
     "data": {
      "text/plain": "             Date Timestamp     Open     High      Low    Close      Volume\n3735009  20191231  11:55:00  1.12266  1.12267  1.12250  1.12251  196.390000\n3735010  20191231  11:56:00  1.12250  1.12261  1.12247  1.12251  167.640000\n3735011  20191231  11:57:00  1.12254  1.12273  1.12254  1.12271  164.570002\n3735012  20191231  11:58:00  1.12271  1.12283  1.12262  1.12275  244.780001\n3735013  20191231  11:59:00  1.12276  1.12281  1.12272  1.12277  219.340002",
      "text/html": "<div>\n<style scoped>\n    .dataframe tbody tr th:only-of-type {\n        vertical-align: middle;\n    }\n\n    .dataframe tbody tr th {\n        vertical-align: top;\n    }\n\n    .dataframe thead th {\n        text-align: right;\n    }\n</style>\n<table border=\"1\" class=\"dataframe\">\n  <thead>\n    <tr style=\"text-align: right;\">\n      <th></th>\n      <th>Date</th>\n      <th>Timestamp</th>\n      <th>Open</th>\n      <th>High</th>\n      <th>Low</th>\n      <th>Close</th>\n      <th>Volume</th>\n    </tr>\n  </thead>\n  <tbody>\n    <tr>\n      <th>3735009</th>\n      <td>20191231</td>\n      <td>11:55:00</td>\n      <td>1.12266</td>\n      <td>1.12267</td>\n      <td>1.12250</td>\n      <td>1.12251</td>\n      <td>196.390000</td>\n    </tr>\n    <tr>\n      <th>3735010</th>\n      <td>20191231</td>\n      <td>11:56:00</td>\n      <td>1.12250</td>\n      <td>1.12261</td>\n      <td>1.12247</td>\n      <td>1.12251</td>\n      <td>167.640000</td>\n    </tr>\n    <tr>\n      <th>3735011</th>\n      <td>20191231</td>\n      <td>11:57:00</td>\n      <td>1.12254</td>\n      <td>1.12273</td>\n      <td>1.12254</td>\n      <td>1.12271</td>\n      <td>164.570002</td>\n    </tr>\n    <tr>\n      <th>3735012</th>\n      <td>20191231</td>\n      <td>11:58:00</td>\n      <td>1.12271</td>\n      <td>1.12283</td>\n      <td>1.12262</td>\n      <td>1.12275</td>\n      <td>244.780001</td>\n    </tr>\n    <tr>\n      <th>3735013</th>\n      <td>20191231</td>\n      <td>11:59:00</td>\n      <td>1.12276</td>\n      <td>1.12281</td>\n      <td>1.12272</td>\n      <td>1.12277</td>\n      <td>219.340002</td>\n    </tr>\n  </tbody>\n</table>\n</div>"
     },
     "execution_count": 590,
     "metadata": {},
     "output_type": "execute_result"
    }
   ],
   "source": [
    "df.tail()"
   ],
   "metadata": {
    "collapsed": false,
    "ExecuteTime": {
     "end_time": "2023-10-01T19:50:08.579479Z",
     "start_time": "2023-10-01T19:50:08.563979Z"
    }
   },
   "id": "33b64fd68207fd56"
  },
  {
   "cell_type": "code",
   "execution_count": 591,
   "outputs": [],
   "source": [
    "df[\"DateTimeIndex\"]=pd.to_datetime(df['Date'].astype(str)+' '+df['Timestamp'].astype(str))"
   ],
   "metadata": {
    "collapsed": false,
    "ExecuteTime": {
     "end_time": "2023-10-01T19:50:11.523919Z",
     "start_time": "2023-10-01T19:50:10.076937Z"
    }
   },
   "id": "d50f3ba540e8d4d1"
  },
  {
   "cell_type": "code",
   "execution_count": 592,
   "outputs": [],
   "source": [
    "df.drop(columns=['Date','Timestamp'],inplace=True)"
   ],
   "metadata": {
    "collapsed": false,
    "ExecuteTime": {
     "end_time": "2023-10-01T19:50:13.374926Z",
     "start_time": "2023-10-01T19:50:13.316536Z"
    }
   },
   "id": "66996b2a95202dc6"
  },
  {
   "cell_type": "code",
   "execution_count": 593,
   "outputs": [],
   "source": [
    "df.index=df['DateTimeIndex']"
   ],
   "metadata": {
    "collapsed": false,
    "ExecuteTime": {
     "end_time": "2023-10-01T19:50:15.612291Z",
     "start_time": "2023-10-01T19:50:15.588973Z"
    }
   },
   "id": "deb8ead014985004"
  },
  {
   "cell_type": "code",
   "execution_count": 594,
   "outputs": [],
   "source": [
    "df.drop(columns='DateTimeIndex',inplace=True)"
   ],
   "metadata": {
    "collapsed": false,
    "ExecuteTime": {
     "end_time": "2023-10-01T19:50:16.635296Z",
     "start_time": "2023-10-01T19:50:16.590344Z"
    }
   },
   "id": "612ed0077ffb17a1"
  },
  {
   "cell_type": "code",
   "execution_count": 595,
   "outputs": [],
   "source": [
    "df.loc[df.index.weekday==5]=df.shift(-24).dropna()"
   ],
   "metadata": {
    "collapsed": false,
    "ExecuteTime": {
     "end_time": "2023-10-01T19:50:17.986502Z",
     "start_time": "2023-10-01T19:50:17.555878Z"
    }
   },
   "id": "dd949bbce2a48093"
  },
  {
   "cell_type": "code",
   "execution_count": 596,
   "outputs": [],
   "source": [
    "df=df.dropna()\n"
   ],
   "metadata": {
    "collapsed": false,
    "ExecuteTime": {
     "end_time": "2023-10-01T19:50:18.651613Z",
     "start_time": "2023-10-01T19:50:18.608624Z"
    }
   },
   "id": "9b936bc018223b45"
  },
  {
   "cell_type": "code",
   "execution_count": 597,
   "outputs": [],
   "source": [
    "daily_close_data=pd.DataFrame()"
   ],
   "metadata": {
    "collapsed": false,
    "ExecuteTime": {
     "end_time": "2023-10-01T19:50:19.603597Z",
     "start_time": "2023-10-01T19:50:19.576433Z"
    }
   },
   "id": "affd9db2c8b4253a"
  },
  {
   "cell_type": "code",
   "execution_count": 598,
   "outputs": [],
   "source": [
    "daily_close_data=df.resample('D').mean()\n",
    "\n",
    "daily_close_data=daily_close_data.dropna()"
   ],
   "metadata": {
    "collapsed": false,
    "ExecuteTime": {
     "end_time": "2023-10-01T19:50:20.589236Z",
     "start_time": "2023-10-01T19:50:20.420720Z"
    }
   },
   "id": "b4d286001ff753b0"
  },
  {
   "cell_type": "code",
   "execution_count": 599,
   "outputs": [],
   "source": [
    "#Function to standardize the data\n",
    "def Standardize_here(data,data2):\n",
    "    mn=data.mean()\n",
    "    std=data.std()\n",
    "    stdz=(data-mn)/std\n",
    "    stdz_test=(data2-mn)/std\n",
    "    return stdz,stdz_test\n",
    "#Function to de_standardize the data to find the original value \n",
    "def De_Standardize_here(data,data2):\n",
    "    mn=data.mean()\n",
    "    std=data.std()\n",
    "    de_std=(data2*std)+mn\n",
    "    return  de_std\n",
    "#Funtion to calculate the Larry William’s %R\n",
    "def LWR_calc ( High,Low,Close):\n",
    "    h=High.rolling(14).max()\n",
    "    lw=Low.rolling(14).min()\n",
    "    Lwr=((h-Close)/(h-lw))*100\n",
    "    return Lwr\n",
    "\n",
    "daily_close_data['LWR']=LWR_calc(daily_close_data['High'],daily_close_data['Low'],daily_close_data['Close'])"
   ],
   "metadata": {
    "collapsed": false,
    "ExecuteTime": {
     "end_time": "2023-10-01T19:50:22.389076Z",
     "start_time": "2023-10-01T19:50:22.370634Z"
    }
   },
   "id": "53439145b7c5a316"
  },
  {
   "cell_type": "code",
   "execution_count": 600,
   "outputs": [
    {
     "name": "stdout",
     "output_type": "stream",
     "text": [
      "                   Open      High       Low     Close      Volume       LWR\n",
      "DateTimeIndex                                                              \n",
      "2010-01-01     1.433194  1.433288  1.433089  1.433178   60.243939       NaN\n",
      "2010-01-03     1.431891  1.432094  1.431711  1.431913   25.013333       NaN\n",
      "2010-01-04     1.436431  1.436693  1.436159  1.436451   55.569028       NaN\n",
      "2010-01-05     1.440870  1.441108  1.440588  1.440881   55.477153       NaN\n",
      "2010-01-06     1.436875  1.437116  1.436592  1.436898   56.230417       NaN\n",
      "...                 ...       ...       ...       ...         ...       ...\n",
      "2017-12-25     1.185807  1.185841  1.185779  1.185812   17.600162  9.713343\n",
      "2017-12-26     1.186456  1.186491  1.186420  1.186454   73.030431  4.641848\n",
      "2017-12-27     1.188508  1.188566  1.188454  1.188510  125.102695  0.394737\n",
      "2017-12-28     1.193343  1.193394  1.193294  1.193345  121.605042  0.258019\n",
      "2017-12-29     1.197727  1.197786  1.197673  1.197731  130.134190  0.236087\n",
      "\n",
      "[2502 rows x 6 columns]\n",
      "                   Open      High       Low     Close      Volume        LWR\n",
      "DateTimeIndex                                                               \n",
      "2018-01-01     1.201044  1.201106  1.200987  1.201044   71.443500   0.232040\n",
      "2018-01-02     1.204233  1.204299  1.204170  1.204236  137.008972   0.211552\n",
      "2018-01-03     1.203139  1.203202  1.203071  1.203135  135.463280   4.435402\n",
      "2018-01-04     1.204738  1.204808  1.204669  1.204740  145.981549   0.287776\n",
      "2018-01-05     1.205431  1.205499  1.205358  1.205428  143.713902   0.342395\n",
      "...                 ...       ...       ...       ...         ...        ...\n",
      "2019-12-26     1.109451  1.109475  1.109429  1.109451   36.627798  80.195227\n",
      "2019-12-27     1.114447  1.114498  1.114401  1.114452   94.375684  17.202647\n",
      "2019-12-29     1.117864  1.117915  1.117801  1.117858   27.491448   0.577385\n",
      "2019-12-30     1.119915  1.119964  1.119867  1.119915   90.878301   0.403150\n",
      "2019-12-31     1.120863  1.120901  1.120828  1.120866   61.131195   0.272079\n",
      "\n",
      "[626 rows x 6 columns]\n"
     ]
    },
    {
     "data": {
      "text/plain": "[<matplotlib.lines.Line2D at 0x2f5ea9f10>,\n <matplotlib.lines.Line2D at 0x2f5fc1d90>,\n <matplotlib.lines.Line2D at 0x2f1cbd550>,\n <matplotlib.lines.Line2D at 0x2f5fc15d0>,\n <matplotlib.lines.Line2D at 0x2f5fc2250>,\n <matplotlib.lines.Line2D at 0x2f5fc1f10>]"
     },
     "execution_count": 600,
     "metadata": {},
     "output_type": "execute_result"
    },
    {
     "data": {
      "text/plain": "<Figure size 640x480 with 1 Axes>",
      "image/png": "[encoded data removed]"
     },
     "metadata": {},
     "output_type": "display_data"
    }
   ],
   "source": [
    "#Lets split the data into train (80%) and Test (20%)\n",
    "split_index= int(len(daily_close_data)*.80)\n",
    "train_data=daily_close_data.iloc[:split_index]\n",
    "test_data=daily_close_data.iloc[split_index:]\n",
    "\n",
    "print(train_data)\n",
    "print(test_data)\n",
    "\n",
    "train_data=train_data.dropna()\n",
    "\n",
    "plt.plot(train_data)\n",
    "\n"
   ],
   "metadata": {
    "collapsed": false,
    "ExecuteTime": {
     "end_time": "2023-10-01T19:50:28.955883Z",
     "start_time": "2023-10-01T19:50:28.776226Z"
    }
   },
   "id": "6f31dd7478082ec"
  },
  {
   "cell_type": "code",
   "execution_count": 601,
   "outputs": [
    {
     "data": {
      "text/plain": "                   Open      High       Low     Close    Volume       LWR\nDateTimeIndex                                                            \n2010-01-17     1.601317  1.601778  1.600954  1.601581 -0.912012  0.696618\n2010-01-18     1.615264  1.615916  1.614262  1.615419 -0.721751  0.488353\n2010-01-19     1.578080  1.578894  1.576773  1.578106 -0.728780  1.215924\n2010-01-20     1.427999  1.428952  1.426478  1.427967 -0.720902  1.235072\n2010-01-21     1.365545  1.366652  1.363963  1.365606 -0.728932  1.237862\n...                 ...       ...       ...       ...       ...       ...\n2017-12-25    -0.554342 -0.554941 -0.553681 -0.554307 -1.055095 -1.057545\n2017-12-26    -0.548755 -0.549345 -0.548156 -0.548778 -0.569707 -1.187589\n2017-12-27    -0.531074 -0.531464 -0.530631 -0.531059 -0.113723 -1.296493\n2017-12-28    -0.489419 -0.489877 -0.488918 -0.489408 -0.144352 -1.299999\n2017-12-29    -0.451643 -0.452040 -0.451184 -0.451619 -0.069664 -1.300561\n\n[2489 rows x 6 columns]",
      "text/html": "<div>\n<style scoped>\n    .dataframe tbody tr th:only-of-type {\n        vertical-align: middle;\n    }\n\n    .dataframe tbody tr th {\n        vertical-align: top;\n    }\n\n    .dataframe thead th {\n        text-align: right;\n    }\n</style>\n<table border=\"1\" class=\"dataframe\">\n  <thead>\n    <tr style=\"text-align: right;\">\n      <th></th>\n      <th>Open</th>\n      <th>High</th>\n      <th>Low</th>\n      <th>Close</th>\n      <th>Volume</th>\n      <th>LWR</th>\n    </tr>\n    <tr>\n      <th>DateTimeIndex</th>\n      <th></th>\n      <th></th>\n      <th></th>\n      <th></th>\n      <th></th>\n      <th></th>\n    </tr>\n  </thead>\n  <tbody>\n    <tr>\n      <th>2010-01-17</th>\n      <td>1.601317</td>\n      <td>1.601778</td>\n      <td>1.600954</td>\n      <td>1.601581</td>\n      <td>-0.912012</td>\n      <td>0.696618</td>\n    </tr>\n    <tr>\n      <th>2010-01-18</th>\n      <td>1.615264</td>\n      <td>1.615916</td>\n      <td>1.614262</td>\n      <td>1.615419</td>\n      <td>-0.721751</td>\n      <td>0.488353</td>\n    </tr>\n    <tr>\n      <th>2010-01-19</th>\n      <td>1.578080</td>\n      <td>1.578894</td>\n      <td>1.576773</td>\n      <td>1.578106</td>\n      <td>-0.728780</td>\n      <td>1.215924</td>\n    </tr>\n    <tr>\n      <th>2010-01-20</th>\n      <td>1.427999</td>\n      <td>1.428952</td>\n      <td>1.426478</td>\n      <td>1.427967</td>\n      <td>-0.720902</td>\n      <td>1.235072</td>\n    </tr>\n    <tr>\n      <th>2010-01-21</th>\n      <td>1.365545</td>\n      <td>1.366652</td>\n      <td>1.363963</td>\n      <td>1.365606</td>\n      <td>-0.728932</td>\n      <td>1.237862</td>\n    </tr>\n    <tr>\n      <th>...</th>\n      <td>...</td>\n      <td>...</td>\n      <td>...</td>\n      <td>...</td>\n      <td>...</td>\n      <td>...</td>\n    </tr>\n    <tr>\n      <th>2017-12-25</th>\n      <td>-0.554342</td>\n      <td>-0.554941</td>\n      <td>-0.553681</td>\n      <td>-0.554307</td>\n      <td>-1.055095</td>\n      <td>-1.057545</td>\n    </tr>\n    <tr>\n      <th>2017-12-26</th>\n      <td>-0.548755</td>\n      <td>-0.549345</td>\n      <td>-0.548156</td>\n      <td>-0.548778</td>\n      <td>-0.569707</td>\n      <td>-1.187589</td>\n    </tr>\n    <tr>\n      <th>2017-12-27</th>\n      <td>-0.531074</td>\n      <td>-0.531464</td>\n      <td>-0.530631</td>\n      <td>-0.531059</td>\n      <td>-0.113723</td>\n      <td>-1.296493</td>\n    </tr>\n    <tr>\n      <th>2017-12-28</th>\n      <td>-0.489419</td>\n      <td>-0.489877</td>\n      <td>-0.488918</td>\n      <td>-0.489408</td>\n      <td>-0.144352</td>\n      <td>-1.299999</td>\n    </tr>\n    <tr>\n      <th>2017-12-29</th>\n      <td>-0.451643</td>\n      <td>-0.452040</td>\n      <td>-0.451184</td>\n      <td>-0.451619</td>\n      <td>-0.069664</td>\n      <td>-1.300561</td>\n    </tr>\n  </tbody>\n</table>\n<p>2489 rows × 6 columns</p>\n</div>"
     },
     "execution_count": 601,
     "metadata": {},
     "output_type": "execute_result"
    }
   ],
   "source": [
    "stdz_train, stdz_test =Standardize_here(train_data, test_data)\n",
    "stdz_train=stdz_train.dropna()\n",
    "stdz_test=stdz_test.dropna()\n",
    "\n",
    "stdz_train"
   ],
   "metadata": {
    "collapsed": false,
    "ExecuteTime": {
     "end_time": "2023-10-01T19:50:31.289911Z",
     "start_time": "2023-10-01T19:50:31.246455Z"
    }
   },
   "id": "5c713306a5636991"
  },
  {
   "cell_type": "code",
   "execution_count": 602,
   "outputs": [
    {
     "data": {
      "text/plain": "                   Open      High       Low     Close    Volume       LWR\nDateTimeIndex                                                            \n2018-01-01    -0.423063 -0.423436 -0.422628 -0.423070 -0.583603 -1.300665\n2018-01-02    -0.395592 -0.395931 -0.395199 -0.395573 -0.009463 -1.301190\n2018-01-03    -0.405014 -0.405383 -0.404670 -0.405055 -0.022998 -1.192882\n2018-01-04    -0.391242 -0.391541 -0.390897 -0.391223  0.069107 -1.299236\n2018-01-05    -0.385265 -0.385596 -0.384965 -0.385300  0.049250 -1.297835\n...                 ...       ...       ...       ...       ...       ...\n2019-12-26    -1.212214 -1.212821 -1.211604 -1.212216 -0.888475  0.749752\n2019-12-27    -1.169173 -1.169543 -1.168757 -1.169134 -0.382792 -0.865505\n2019-12-29    -1.139730 -1.140105 -1.139455 -1.139789 -0.968480 -1.291810\n2019-12-30    -1.122064 -1.122456 -1.121652 -1.122058 -0.413418 -1.296278\n2019-12-31    -1.113893 -1.114383 -1.113376 -1.113870 -0.673905 -1.299638\n\n[626 rows x 6 columns]",
      "text/html": "<div>\n<style scoped>\n    .dataframe tbody tr th:only-of-type {\n        vertical-align: middle;\n    }\n\n    .dataframe tbody tr th {\n        vertical-align: top;\n    }\n\n    .dataframe thead th {\n        text-align: right;\n    }\n</style>\n<table border=\"1\" class=\"dataframe\">\n  <thead>\n    <tr style=\"text-align: right;\">\n      <th></th>\n      <th>Open</th>\n      <th>High</th>\n      <th>Low</th>\n      <th>Close</th>\n      <th>Volume</th>\n      <th>LWR</th>\n    </tr>\n    <tr>\n      <th>DateTimeIndex</th>\n      <th></th>\n      <th></th>\n      <th></th>\n      <th></th>\n      <th></th>\n      <th></th>\n    </tr>\n  </thead>\n  <tbody>\n    <tr>\n      <th>2018-01-01</th>\n      <td>-0.423063</td>\n      <td>-0.423436</td>\n      <td>-0.422628</td>\n      <td>-0.423070</td>\n      <td>-0.583603</td>\n      <td>-1.300665</td>\n    </tr>\n    <tr>\n      <th>2018-01-02</th>\n      <td>-0.395592</td>\n      <td>-0.395931</td>\n      <td>-0.395199</td>\n      <td>-0.395573</td>\n      <td>-0.009463</td>\n      <td>-1.301190</td>\n    </tr>\n    <tr>\n      <th>2018-01-03</th>\n      <td>-0.405014</td>\n      <td>-0.405383</td>\n      <td>-0.404670</td>\n      <td>-0.405055</td>\n      <td>-0.022998</td>\n      <td>-1.192882</td>\n    </tr>\n    <tr>\n      <th>2018-01-04</th>\n      <td>-0.391242</td>\n      <td>-0.391541</td>\n      <td>-0.390897</td>\n      <td>-0.391223</td>\n      <td>0.069107</td>\n      <td>-1.299236</td>\n    </tr>\n    <tr>\n      <th>2018-01-05</th>\n      <td>-0.385265</td>\n      <td>-0.385596</td>\n      <td>-0.384965</td>\n      <td>-0.385300</td>\n      <td>0.049250</td>\n      <td>-1.297835</td>\n    </tr>\n    <tr>\n      <th>...</th>\n      <td>...</td>\n      <td>...</td>\n      <td>...</td>\n      <td>...</td>\n      <td>...</td>\n      <td>...</td>\n    </tr>\n    <tr>\n      <th>2019-12-26</th>\n      <td>-1.212214</td>\n      <td>-1.212821</td>\n      <td>-1.211604</td>\n      <td>-1.212216</td>\n      <td>-0.888475</td>\n      <td>0.749752</td>\n    </tr>\n    <tr>\n      <th>2019-12-27</th>\n      <td>-1.169173</td>\n      <td>-1.169543</td>\n      <td>-1.168757</td>\n      <td>-1.169134</td>\n      <td>-0.382792</td>\n      <td>-0.865505</td>\n    </tr>\n    <tr>\n      <th>2019-12-29</th>\n      <td>-1.139730</td>\n      <td>-1.140105</td>\n      <td>-1.139455</td>\n      <td>-1.139789</td>\n      <td>-0.968480</td>\n      <td>-1.291810</td>\n    </tr>\n    <tr>\n      <th>2019-12-30</th>\n      <td>-1.122064</td>\n      <td>-1.122456</td>\n      <td>-1.121652</td>\n      <td>-1.122058</td>\n      <td>-0.413418</td>\n      <td>-1.296278</td>\n    </tr>\n    <tr>\n      <th>2019-12-31</th>\n      <td>-1.113893</td>\n      <td>-1.114383</td>\n      <td>-1.113376</td>\n      <td>-1.113870</td>\n      <td>-0.673905</td>\n      <td>-1.299638</td>\n    </tr>\n  </tbody>\n</table>\n<p>626 rows × 6 columns</p>\n</div>"
     },
     "execution_count": 602,
     "metadata": {},
     "output_type": "execute_result"
    }
   ],
   "source": [
    "stdz_test"
   ],
   "metadata": {
    "collapsed": false,
    "ExecuteTime": {
     "end_time": "2023-10-01T19:52:17.057351Z",
     "start_time": "2023-10-01T19:52:17.040604Z"
    }
   },
   "id": "10854c5f3fca817a"
  },
  {
   "cell_type": "code",
   "execution_count": 603,
   "outputs": [
    {
     "name": "stdout",
     "output_type": "stream",
     "text": [
      "[[ 1.60163876  1.60209969  1.60127588  1.60190315 -0.91219493  0.69675821]\n",
      " [ 1.6155883   1.61624112  1.61458646  1.61574404 -0.72189641  0.48845136]\n",
      " [ 1.57839677  1.5792116   1.57708937  1.57842343 -0.72892633  1.21616871]\n",
      " ...\n",
      " [-0.53118064 -0.53157129 -0.53073734 -0.5311661  -0.11374631 -1.29675376]\n",
      " [-0.48951735 -0.48997591 -0.48901579 -0.48950609 -0.14438051 -1.30026021]\n",
      " [-0.45173344 -0.45213035 -0.45127445 -0.4517095  -0.06967796 -1.30082271]]\n",
      "[[ 1.22550541  1.22496213  1.22613286  1.22551524 -1.20996216 -1.44039232]\n",
      " [ 1.30254933  1.30208447  1.30307327  1.30263338 -0.36804109 -1.44094614]\n",
      " [ 1.27612472  1.27558257  1.27650807  1.27603985 -0.38788919 -1.3267706 ]\n",
      " ...\n",
      " [-0.784418   -0.78452384 -0.78462348 -0.78456958 -1.77434702 -1.43105726]\n",
      " [-0.73487466 -0.73503592 -0.73468337 -0.73484154 -0.96040141 -1.43576702]\n",
      " [-0.71195743 -0.7124024  -0.7114691  -0.71187902 -1.34238167 -1.43931003]]\n"
     ]
    },
    {
     "data": {
      "text/plain": "[<matplotlib.lines.Line2D at 0x48c47ec50>,\n <matplotlib.lines.Line2D at 0x48c4b1d10>,\n <matplotlib.lines.Line2D at 0x48c4a9f90>,\n <matplotlib.lines.Line2D at 0x48c4b2210>,\n <matplotlib.lines.Line2D at 0x48c4b2290>,\n <matplotlib.lines.Line2D at 0x48c4b29d0>]"
     },
     "execution_count": 603,
     "metadata": {},
     "output_type": "execute_result"
    },
    {
     "data": {
      "text/plain": "<Figure size 640x480 with 1 Axes>",
      "image/png": "[encoded data removed]"
     },
     "metadata": {},
     "output_type": "display_data"
    }
   ],
   "source": [
    "scaler=StandardScaler()\n",
    "scaler.fit(train_data)\n",
    "\n",
    "train_tt=scaler.fit_transform(train_data)\n",
    "test_tt=scaler.fit_transform(test_data)\n",
    "\n",
    "print(train_tt)\n",
    "print(test_tt)\n",
    "\n",
    "plt.plot(train_tt)"
   ],
   "metadata": {
    "collapsed": false,
    "ExecuteTime": {
     "end_time": "2023-10-01T19:52:22.384066Z",
     "start_time": "2023-10-01T19:52:22.278460Z"
    }
   },
   "id": "91c26b82e5178cf7"
  },
  {
   "cell_type": "code",
   "execution_count": 604,
   "outputs": [
    {
     "data": {
      "text/plain": "[<matplotlib.lines.Line2D at 0x48c4eaf10>,\n <matplotlib.lines.Line2D at 0x48c4a8750>,\n <matplotlib.lines.Line2D at 0x48c51de90>,\n <matplotlib.lines.Line2D at 0x48c455b50>,\n <matplotlib.lines.Line2D at 0x48c51d8d0>,\n <matplotlib.lines.Line2D at 0x48c51d4d0>]"
     },
     "execution_count": 604,
     "metadata": {},
     "output_type": "execute_result"
    },
    {
     "data": {
      "text/plain": "<Figure size 640x480 with 1 Axes>",
      "image/png": "[encoded data removed]"
     },
     "metadata": {},
     "output_type": "display_data"
    }
   ],
   "source": [
    "plt.plot(test_tt)"
   ],
   "metadata": {
    "collapsed": false,
    "ExecuteTime": {
     "end_time": "2023-10-01T19:52:24.309255Z",
     "start_time": "2023-10-01T19:52:24.211680Z"
    }
   },
   "id": "85152284cdf0026"
  },
  {
   "cell_type": "code",
   "execution_count": 605,
   "outputs": [
    {
     "data": {
      "text/plain": "                   Open      High       Low     Close    Volume       LWR  \\\nDateTimeIndex                                                               \n2010-01-17     1.601317  1.601778  1.600954  1.601581 -0.912012  0.696618   \n2010-01-18     1.615264  1.615916  1.614262  1.615419 -0.721751  0.488353   \n2010-01-19     1.578080  1.578894  1.576773  1.578106 -0.728780  1.215924   \n2010-01-20     1.427999  1.428952  1.426478  1.427967 -0.720902  1.235072   \n2010-01-21     1.365545  1.366652  1.363963  1.365606 -0.728932  1.237862   \n...                 ...       ...       ...       ...       ...       ...   \n2017-12-25    -0.554342 -0.554941 -0.553681 -0.554307 -1.055095 -1.057545   \n2017-12-26    -0.548755 -0.549345 -0.548156 -0.548778 -0.569707 -1.187589   \n2017-12-27    -0.531074 -0.531464 -0.530631 -0.531059 -0.113723 -1.296493   \n2017-12-28    -0.489419 -0.489877 -0.488918 -0.489408 -0.144352 -1.299999   \n2017-12-29    -0.451643 -0.452040 -0.451184 -0.451619 -0.069664 -1.300561   \n\n                  Label  \nDateTimeIndex            \n2010-01-17     1.615419  \n2010-01-18     1.578106  \n2010-01-19     1.427967  \n2010-01-20     1.365606  \n2010-01-21     1.404849  \n...                 ...  \n2017-12-25    -0.548778  \n2017-12-26    -0.531059  \n2017-12-27    -0.489408  \n2017-12-28    -0.451619  \n2017-12-29          NaN  \n\n[2489 rows x 7 columns]",
      "text/html": "<div>\n<style scoped>\n    .dataframe tbody tr th:only-of-type {\n        vertical-align: middle;\n    }\n\n    .dataframe tbody tr th {\n        vertical-align: top;\n    }\n\n    .dataframe thead th {\n        text-align: right;\n    }\n</style>\n<table border=\"1\" class=\"dataframe\">\n  <thead>\n    <tr style=\"text-align: right;\">\n      <th></th>\n      <th>Open</th>\n      <th>High</th>\n      <th>Low</th>\n      <th>Close</th>\n      <th>Volume</th>\n      <th>LWR</th>\n      <th>Label</th>\n    </tr>\n    <tr>\n      <th>DateTimeIndex</th>\n      <th></th>\n      <th></th>\n      <th></th>\n      <th></th>\n      <th></th>\n      <th></th>\n      <th></th>\n    </tr>\n  </thead>\n  <tbody>\n    <tr>\n      <th>2010-01-17</th>\n      <td>1.601317</td>\n      <td>1.601778</td>\n      <td>1.600954</td>\n      <td>1.601581</td>\n      <td>-0.912012</td>\n      <td>0.696618</td>\n      <td>1.615419</td>\n    </tr>\n    <tr>\n      <th>2010-01-18</th>\n      <td>1.615264</td>\n      <td>1.615916</td>\n      <td>1.614262</td>\n      <td>1.615419</td>\n      <td>-0.721751</td>\n      <td>0.488353</td>\n      <td>1.578106</td>\n    </tr>\n    <tr>\n      <th>2010-01-19</th>\n      <td>1.578080</td>\n      <td>1.578894</td>\n      <td>1.576773</td>\n      <td>1.578106</td>\n      <td>-0.728780</td>\n      <td>1.215924</td>\n      <td>1.427967</td>\n    </tr>\n    <tr>\n      <th>2010-01-20</th>\n      <td>1.427999</td>\n      <td>1.428952</td>\n      <td>1.426478</td>\n      <td>1.427967</td>\n      <td>-0.720902</td>\n      <td>1.235072</td>\n      <td>1.365606</td>\n    </tr>\n    <tr>\n      <th>2010-01-21</th>\n      <td>1.365545</td>\n      <td>1.366652</td>\n      <td>1.363963</td>\n      <td>1.365606</td>\n      <td>-0.728932</td>\n      <td>1.237862</td>\n      <td>1.404849</td>\n    </tr>\n    <tr>\n      <th>...</th>\n      <td>...</td>\n      <td>...</td>\n      <td>...</td>\n      <td>...</td>\n      <td>...</td>\n      <td>...</td>\n      <td>...</td>\n    </tr>\n    <tr>\n      <th>2017-12-25</th>\n      <td>-0.554342</td>\n      <td>-0.554941</td>\n      <td>-0.553681</td>\n      <td>-0.554307</td>\n      <td>-1.055095</td>\n      <td>-1.057545</td>\n      <td>-0.548778</td>\n    </tr>\n    <tr>\n      <th>2017-12-26</th>\n      <td>-0.548755</td>\n      <td>-0.549345</td>\n      <td>-0.548156</td>\n      <td>-0.548778</td>\n      <td>-0.569707</td>\n      <td>-1.187589</td>\n      <td>-0.531059</td>\n    </tr>\n    <tr>\n      <th>2017-12-27</th>\n      <td>-0.531074</td>\n      <td>-0.531464</td>\n      <td>-0.530631</td>\n      <td>-0.531059</td>\n      <td>-0.113723</td>\n      <td>-1.296493</td>\n      <td>-0.489408</td>\n    </tr>\n    <tr>\n      <th>2017-12-28</th>\n      <td>-0.489419</td>\n      <td>-0.489877</td>\n      <td>-0.488918</td>\n      <td>-0.489408</td>\n      <td>-0.144352</td>\n      <td>-1.299999</td>\n      <td>-0.451619</td>\n    </tr>\n    <tr>\n      <th>2017-12-29</th>\n      <td>-0.451643</td>\n      <td>-0.452040</td>\n      <td>-0.451184</td>\n      <td>-0.451619</td>\n      <td>-0.069664</td>\n      <td>-1.300561</td>\n      <td>NaN</td>\n    </tr>\n  </tbody>\n</table>\n<p>2489 rows × 7 columns</p>\n</div>"
     },
     "execution_count": 605,
     "metadata": {},
     "output_type": "execute_result"
    }
   ],
   "source": [
    "\n",
    "stdz_train['Label']=stdz_train['Close'].shift(-1)\n",
    "stdz_train\n",
    "stdz_test['Label']=stdz_test['Close'].shift(-1)\n",
    "stdz_test\n",
    "stdz_train"
   ],
   "metadata": {
    "collapsed": false,
    "ExecuteTime": {
     "end_time": "2023-10-01T19:52:26.407154Z",
     "start_time": "2023-10-01T19:52:26.390182Z"
    }
   },
   "id": "3ce27d0146676686"
  },
  {
   "cell_type": "code",
   "execution_count": 606,
   "outputs": [
    {
     "data": {
      "text/plain": "                  Close       LWR     Label\nDateTimeIndex                              \n2010-01-17     1.601581  0.696618  1.615419\n2010-01-18     1.615419  0.488353  1.578106\n2010-01-19     1.578106  1.215924  1.427967\n2010-01-20     1.427967  1.235072  1.365606\n2010-01-21     1.365606  1.237862  1.404849\n...                 ...       ...       ...\n2017-12-25    -0.554307 -1.057545 -0.548778\n2017-12-26    -0.548778 -1.187589 -0.531059\n2017-12-27    -0.531059 -1.296493 -0.489408\n2017-12-28    -0.489408 -1.299999 -0.451619\n2017-12-29    -0.451619 -1.300561       NaN\n\n[2489 rows x 3 columns]",
      "text/html": "<div>\n<style scoped>\n    .dataframe tbody tr th:only-of-type {\n        vertical-align: middle;\n    }\n\n    .dataframe tbody tr th {\n        vertical-align: top;\n    }\n\n    .dataframe thead th {\n        text-align: right;\n    }\n</style>\n<table border=\"1\" class=\"dataframe\">\n  <thead>\n    <tr style=\"text-align: right;\">\n      <th></th>\n      <th>Close</th>\n      <th>LWR</th>\n      <th>Label</th>\n    </tr>\n    <tr>\n      <th>DateTimeIndex</th>\n      <th></th>\n      <th></th>\n      <th></th>\n    </tr>\n  </thead>\n  <tbody>\n    <tr>\n      <th>2010-01-17</th>\n      <td>1.601581</td>\n      <td>0.696618</td>\n      <td>1.615419</td>\n    </tr>\n    <tr>\n      <th>2010-01-18</th>\n      <td>1.615419</td>\n      <td>0.488353</td>\n      <td>1.578106</td>\n    </tr>\n    <tr>\n      <th>2010-01-19</th>\n      <td>1.578106</td>\n      <td>1.215924</td>\n      <td>1.427967</td>\n    </tr>\n    <tr>\n      <th>2010-01-20</th>\n      <td>1.427967</td>\n      <td>1.235072</td>\n      <td>1.365606</td>\n    </tr>\n    <tr>\n      <th>2010-01-21</th>\n      <td>1.365606</td>\n      <td>1.237862</td>\n      <td>1.404849</td>\n    </tr>\n    <tr>\n      <th>...</th>\n      <td>...</td>\n      <td>...</td>\n      <td>...</td>\n    </tr>\n    <tr>\n      <th>2017-12-25</th>\n      <td>-0.554307</td>\n      <td>-1.057545</td>\n      <td>-0.548778</td>\n    </tr>\n    <tr>\n      <th>2017-12-26</th>\n      <td>-0.548778</td>\n      <td>-1.187589</td>\n      <td>-0.531059</td>\n    </tr>\n    <tr>\n      <th>2017-12-27</th>\n      <td>-0.531059</td>\n      <td>-1.296493</td>\n      <td>-0.489408</td>\n    </tr>\n    <tr>\n      <th>2017-12-28</th>\n      <td>-0.489408</td>\n      <td>-1.299999</td>\n      <td>-0.451619</td>\n    </tr>\n    <tr>\n      <th>2017-12-29</th>\n      <td>-0.451619</td>\n      <td>-1.300561</td>\n      <td>NaN</td>\n    </tr>\n  </tbody>\n</table>\n<p>2489 rows × 3 columns</p>\n</div>"
     },
     "execution_count": 606,
     "metadata": {},
     "output_type": "execute_result"
    }
   ],
   "source": [
    "stdz_train.drop(columns=['Open','High','Low','Volume'], inplace= True)\n",
    "stdz_train"
   ],
   "metadata": {
    "collapsed": false,
    "ExecuteTime": {
     "end_time": "2023-10-01T19:52:30.670479Z",
     "start_time": "2023-10-01T19:52:30.636210Z"
    }
   },
   "id": "926c6ea7471099c4"
  },
  {
   "cell_type": "code",
   "execution_count": 607,
   "outputs": [
    {
     "data": {
      "text/plain": "                  Close       LWR     Label\nDateTimeIndex                              \n2018-01-01    -0.423070 -1.300665 -0.395573\n2018-01-02    -0.395573 -1.301190 -0.405055\n2018-01-03    -0.405055 -1.192882 -0.391223\n2018-01-04    -0.391223 -1.299236 -0.385300\n2018-01-05    -0.385300 -1.297835 -0.402551\n...                 ...       ...       ...\n2019-12-26    -1.212216  0.749752 -1.169134\n2019-12-27    -1.169134 -0.865505 -1.139789\n2019-12-29    -1.139789 -1.291810 -1.122058\n2019-12-30    -1.122058 -1.296278 -1.113870\n2019-12-31    -1.113870 -1.299638       NaN\n\n[626 rows x 3 columns]",
      "text/html": "<div>\n<style scoped>\n    .dataframe tbody tr th:only-of-type {\n        vertical-align: middle;\n    }\n\n    .dataframe tbody tr th {\n        vertical-align: top;\n    }\n\n    .dataframe thead th {\n        text-align: right;\n    }\n</style>\n<table border=\"1\" class=\"dataframe\">\n  <thead>\n    <tr style=\"text-align: right;\">\n      <th></th>\n      <th>Close</th>\n      <th>LWR</th>\n      <th>Label</th>\n    </tr>\n    <tr>\n      <th>DateTimeIndex</th>\n      <th></th>\n      <th></th>\n      <th></th>\n    </tr>\n  </thead>\n  <tbody>\n    <tr>\n      <th>2018-01-01</th>\n      <td>-0.423070</td>\n      <td>-1.300665</td>\n      <td>-0.395573</td>\n    </tr>\n    <tr>\n      <th>2018-01-02</th>\n      <td>-0.395573</td>\n      <td>-1.301190</td>\n      <td>-0.405055</td>\n    </tr>\n    <tr>\n      <th>2018-01-03</th>\n      <td>-0.405055</td>\n      <td>-1.192882</td>\n      <td>-0.391223</td>\n    </tr>\n    <tr>\n      <th>2018-01-04</th>\n      <td>-0.391223</td>\n      <td>-1.299236</td>\n      <td>-0.385300</td>\n    </tr>\n    <tr>\n      <th>2018-01-05</th>\n      <td>-0.385300</td>\n      <td>-1.297835</td>\n      <td>-0.402551</td>\n    </tr>\n    <tr>\n      <th>...</th>\n      <td>...</td>\n      <td>...</td>\n      <td>...</td>\n    </tr>\n    <tr>\n      <th>2019-12-26</th>\n      <td>-1.212216</td>\n      <td>0.749752</td>\n      <td>-1.169134</td>\n    </tr>\n    <tr>\n      <th>2019-12-27</th>\n      <td>-1.169134</td>\n      <td>-0.865505</td>\n      <td>-1.139789</td>\n    </tr>\n    <tr>\n      <th>2019-12-29</th>\n      <td>-1.139789</td>\n      <td>-1.291810</td>\n      <td>-1.122058</td>\n    </tr>\n    <tr>\n      <th>2019-12-30</th>\n      <td>-1.122058</td>\n      <td>-1.296278</td>\n      <td>-1.113870</td>\n    </tr>\n    <tr>\n      <th>2019-12-31</th>\n      <td>-1.113870</td>\n      <td>-1.299638</td>\n      <td>NaN</td>\n    </tr>\n  </tbody>\n</table>\n<p>626 rows × 3 columns</p>\n</div>"
     },
     "execution_count": 607,
     "metadata": {},
     "output_type": "execute_result"
    }
   ],
   "source": [
    "stdz_test.drop(columns=['Open','High','Low','Volume'], inplace= True)\n",
    "stdz_test"
   ],
   "metadata": {
    "collapsed": false,
    "ExecuteTime": {
     "end_time": "2023-10-01T19:52:33.592162Z",
     "start_time": "2023-10-01T19:52:33.566288Z"
    }
   },
   "id": "de8420a3f9f93ed1"
  },
  {
   "cell_type": "markdown",
   "source": [
    "\n",
    "def fill_nan_with_avg(series):\n",
    "    # Find the NaN values\n",
    "    nan_mask = series.isna()\n",
    "\n",
    "    # Calculate the average of the previous and next rows for each NaN value\n",
    "    avg_values = (series.shift(1) + series.shift(-1)) / 2\n",
    "\n",
    "    # Update NaN values with the calculated average values\n",
    "    series[nan_mask] = avg_values[nan_mask]\n",
    "\n",
    "# Apply the fill_nan_with_avg function to the 'Close' column\n",
    "fill_nan_with_avg(daily_close_data['Close'])\n",
    "\n",
    "# Print the updated DataFrame\n",
    "print(daily_close_data)\n"
   ],
   "metadata": {
    "collapsed": false
   },
   "id": "883729f58bdb8b07"
  },
  {
   "cell_type": "code",
   "execution_count": 608,
   "outputs": [],
   "source": [
    "#X_train=pd.DataFrame()\n"
   ],
   "metadata": {
    "collapsed": false,
    "ExecuteTime": {
     "end_time": "2023-10-01T19:52:42.374870Z",
     "start_time": "2023-10-01T19:52:42.352370Z"
    }
   },
   "id": "9dbbc5eb0d273084"
  },
  {
   "cell_type": "code",
   "execution_count": 609,
   "outputs": [
    {
     "name": "stdout",
     "output_type": "stream",
     "text": [
      "                  Close       LWR\n",
      "DateTimeIndex                    \n",
      "2010-01-17     1.601581  0.696618\n",
      "2010-01-18     1.615419  0.488353\n",
      "2010-01-19     1.578106  1.215924\n",
      "2010-01-20     1.427967  1.235072\n",
      "2010-01-21     1.365606  1.237862\n",
      "...                 ...       ...\n",
      "2017-12-25    -0.554307 -1.057545\n",
      "2017-12-26    -0.548778 -1.187589\n",
      "2017-12-27    -0.531059 -1.296493\n",
      "2017-12-28    -0.489408 -1.299999\n",
      "2017-12-29    -0.451619 -1.300561\n",
      "\n",
      "[2489 rows x 2 columns]\n",
      "                  Close       LWR     Label\n",
      "DateTimeIndex                              \n",
      "2010-01-17     1.601581  0.696618  1.615419\n",
      "2010-01-18     1.615419  0.488353  1.578106\n",
      "2010-01-19     1.578106  1.215924  1.427967\n",
      "2010-01-20     1.427967  1.235072  1.365606\n",
      "2010-01-21     1.365606  1.237862  1.404849\n",
      "...                 ...       ...       ...\n",
      "2017-12-25    -0.554307 -1.057545 -0.548778\n",
      "2017-12-26    -0.548778 -1.187589 -0.531059\n",
      "2017-12-27    -0.531059 -1.296493 -0.489408\n",
      "2017-12-28    -0.489408 -1.299999 -0.451619\n",
      "2017-12-29    -0.451619 -1.300561       NaN\n",
      "\n",
      "[2489 rows x 3 columns]\n",
      "                  Close       LWR     Label\n",
      "DateTimeIndex                              \n",
      "2018-01-01    -0.423070 -1.300665 -0.395573\n",
      "2018-01-02    -0.395573 -1.301190 -0.405055\n",
      "2018-01-03    -0.405055 -1.192882 -0.391223\n",
      "2018-01-04    -0.391223 -1.299236 -0.385300\n",
      "2018-01-05    -0.385300 -1.297835 -0.402551\n",
      "...                 ...       ...       ...\n",
      "2019-12-26    -1.212216  0.749752 -1.169134\n",
      "2019-12-27    -1.169134 -0.865505 -1.139789\n",
      "2019-12-29    -1.139789 -1.291810 -1.122058\n",
      "2019-12-30    -1.122058 -1.296278 -1.113870\n",
      "2019-12-31    -1.113870 -1.299638       NaN\n",
      "\n",
      "[626 rows x 3 columns]\n"
     ]
    }
   ],
   "source": [
    "X_train= stdz_train.copy()\n",
    "X_test = stdz_test.copy()\n",
    "X_train.drop(columns='Label', inplace = True)\n",
    "X_test.drop(columns='Label', inplace=True)\n",
    "print(X_train)\n",
    "print(stdz_train)\n",
    "print(stdz_test)"
   ],
   "metadata": {
    "collapsed": false,
    "ExecuteTime": {
     "end_time": "2023-10-01T19:52:48.206158Z",
     "start_time": "2023-10-01T19:52:48.175059Z"
    }
   },
   "id": "5ff274120d46a418"
  },
  {
   "cell_type": "code",
   "execution_count": 610,
   "outputs": [],
   "source": [
    "X_test=X_test.dropna()\n",
    "X_train=X_train.dropna()\n"
   ],
   "metadata": {
    "collapsed": false,
    "ExecuteTime": {
     "end_time": "2023-10-01T19:52:50.356405Z",
     "start_time": "2023-10-01T19:52:50.335900Z"
    }
   },
   "id": "97035265c9c7655e"
  },
  {
   "cell_type": "code",
   "execution_count": 611,
   "outputs": [],
   "source": [
    "y_train = stdz_train.copy()\n",
    "y_test = stdz_test.copy()\n",
    "y_train.drop(columns=['Close','LWR'], inplace= True)\n",
    "y_test.drop(columns=['Close','LWR'],inplace=True)\n",
    "y_train=y_train.dropna()\n",
    "y_test=y_test.dropna()\n",
    "\n",
    "\n",
    "    "
   ],
   "metadata": {
    "collapsed": false,
    "ExecuteTime": {
     "end_time": "2023-10-01T19:52:51.543261Z",
     "start_time": "2023-10-01T19:52:51.523674Z"
    }
   },
   "id": "a79ac682eefabac8"
  },
  {
   "cell_type": "code",
   "execution_count": 612,
   "outputs": [
    {
     "name": "stdout",
     "output_type": "stream",
     "text": [
      "2489 2488\n",
      "DatetimeIndex(['2017-12-29'], dtype='datetime64[ns]', name='DateTimeIndex', freq=None)\n"
     ]
    }
   ],
   "source": [
    "print(len(X_train),len(y_train))\n",
    "X_ind= X_train.index\n",
    "y_ind= y_train.index\n",
    "\n",
    "\n",
    "missing={}\n",
    "\n",
    "if len(X_train)!= len(y_train):\n",
    "    missing = X_ind[~X_ind.isin(y_ind)]\n",
    "    missing.append(y_ind[~y_ind.isin(X_ind)])\n",
    "    print(missing)\n",
    " "
   ],
   "metadata": {
    "collapsed": false,
    "ExecuteTime": {
     "end_time": "2023-10-01T19:53:03.465847Z",
     "start_time": "2023-10-01T19:53:03.446157Z"
    }
   },
   "id": "1cbbc12d0a50dc1c"
  },
  {
   "cell_type": "code",
   "execution_count": 613,
   "outputs": [
    {
     "name": "stdout",
     "output_type": "stream",
     "text": [
      "2488 2488\n"
     ]
    }
   ],
   "source": [
    "\n",
    "X_train=X_train.drop(missing)\n",
    "print(len(X_train),len(y_train))\n"
   ],
   "metadata": {
    "collapsed": false,
    "ExecuteTime": {
     "end_time": "2023-10-01T19:53:08.055862Z",
     "start_time": "2023-10-01T19:53:08.031574Z"
    }
   },
   "id": "462e8da4bd07ea70"
  },
  {
   "cell_type": "code",
   "execution_count": 614,
   "outputs": [
    {
     "name": "stdout",
     "output_type": "stream",
     "text": [
      "DatetimeIndex(['2019-12-31'], dtype='datetime64[ns]', name='DateTimeIndex', freq=None)\n"
     ]
    }
   ],
   "source": [
    "X_test_ind=X_test.index\n",
    "y_test_ind=y_test.index\n",
    "\n",
    "if len(X_test)!= len(y_test):\n",
    "    missing = X_test_ind[~X_test_ind.isin(y_test_ind)]\n",
    "    missing.append(y_test_ind[~y_test_ind.isin(X_test_ind)])\n",
    "    print(missing)\n",
    "X_test=X_test.drop(missing)  "
   ],
   "metadata": {
    "collapsed": false,
    "ExecuteTime": {
     "end_time": "2023-10-01T19:53:10.233925Z",
     "start_time": "2023-10-01T19:53:10.213863Z"
    }
   },
   "id": "169118aa70c24256"
  },
  {
   "cell_type": "code",
   "execution_count": 615,
   "outputs": [],
   "source": [
    "#create numpy arrays from the train, test dataframes\n",
    "X_train = X_train.to_numpy()\n",
    "X_test = X_test.to_numpy()\n",
    "y_train = y_train.to_numpy()\n",
    "y_test = y_test.to_numpy()"
   ],
   "metadata": {
    "collapsed": false,
    "ExecuteTime": {
     "end_time": "2023-10-01T19:53:12.606129Z",
     "start_time": "2023-10-01T19:53:12.585565Z"
    }
   },
   "id": "ea9da02c3409c3b6"
  },
  {
   "cell_type": "code",
   "execution_count": 616,
   "outputs": [
    {
     "name": "stdout",
     "output_type": "stream",
     "text": [
      "Shape of X_train: (2488, 2)\n",
      "Shape of y_train: (2488, 1)\n",
      "Shape of X_test: (625, 2)\n",
      "Shape of y_test: (625, 1)\n"
     ]
    }
   ],
   "source": [
    "print(\"Shape of X_train:\", X_train.shape)\n",
    "print(\"Shape of y_train:\", y_train.shape)\n",
    "print(\"Shape of X_test:\", X_test.shape)\n",
    "print(\"Shape of y_test:\", y_test.shape)"
   ],
   "metadata": {
    "collapsed": false,
    "ExecuteTime": {
     "end_time": "2023-10-01T19:53:13.624746Z",
     "start_time": "2023-10-01T19:53:13.598630Z"
    }
   },
   "id": "7b6e4fa3901dc27d"
  },
  {
   "cell_type": "code",
   "execution_count": 617,
   "outputs": [
    {
     "name": "stdout",
     "output_type": "stream",
     "text": [
      "Number of missing values in y_train: 0\n"
     ]
    },
    {
     "data": {
      "text/plain": "array([[ 1.61541943],\n       [ 1.57810632],\n       [ 1.42796707],\n       ...,\n       [-0.53105939],\n       [-0.48940775],\n       [-0.45161875]])"
     },
     "execution_count": 617,
     "metadata": {},
     "output_type": "execute_result"
    }
   ],
   "source": [
    "missing_values = np.isnan(y_train)\n",
    "print(\"Number of missing values in y_train:\", np.sum(missing_values))\n",
    "\n",
    "X_train\n",
    "\n",
    "y_train"
   ],
   "metadata": {
    "collapsed": false,
    "ExecuteTime": {
     "end_time": "2023-10-01T19:53:15.792424Z",
     "start_time": "2023-10-01T19:53:15.754682Z"
    }
   },
   "id": "d2f2e344ff030109"
  },
  {
   "cell_type": "code",
   "execution_count": 618,
   "outputs": [
    {
     "data": {
      "text/plain": "LinearRegression()",
      "text/html": "<style>#sk-container-id-12 {color: black;}#sk-container-id-12 pre{padding: 0;}#sk-container-id-12 div.sk-toggleable {background-color: white;}#sk-container-id-12 label.sk-toggleable__label {cursor: pointer;display: block;width: 100%;margin-bottom: 0;padding: 0.3em;box-sizing: border-box;text-align: center;}#sk-container-id-12 label.sk-toggleable__label-arrow:before {content: \"▸\";float: left;margin-right: 0.25em;color: #696969;}#sk-container-id-12 label.sk-toggleable__label-arrow:hover:before {color: black;}#sk-container-id-12 div.sk-estimator:hover label.sk-toggleable__label-arrow:before {color: black;}#sk-container-id-12 div.sk-toggleable__content {max-height: 0;max-width: 0;overflow: hidden;text-align: left;background-color: #f0f8ff;}#sk-container-id-12 div.sk-toggleable__content pre {margin: 0.2em;color: black;border-radius: 0.25em;background-color: #f0f8ff;}#sk-container-id-12 input.sk-toggleable__control:checked~div.sk-toggleable__content {max-height: 200px;max-width: 100%;overflow: auto;}#sk-container-id-12 input.sk-toggleable__control:checked~label.sk-toggleable__label-arrow:before {content: \"▾\";}#sk-container-id-12 div.sk-estimator input.sk-toggleable__control:checked~label.sk-toggleable__label {background-color: #d4ebff;}#sk-container-id-12 div.sk-label input.sk-toggleable__control:checked~label.sk-toggleable__label {background-color: #d4ebff;}#sk-container-id-12 input.sk-hidden--visually {border: 0;clip: rect(1px 1px 1px 1px);clip: rect(1px, 1px, 1px, 1px);height: 1px;margin: -1px;overflow: hidden;padding: 0;position: absolute;width: 1px;}#sk-container-id-12 div.sk-estimator {font-family: monospace;background-color: #f0f8ff;border: 1px dotted black;border-radius: 0.25em;box-sizing: border-box;margin-bottom: 0.5em;}#sk-container-id-12 div.sk-estimator:hover {background-color: #d4ebff;}#sk-container-id-12 div.sk-parallel-item::after {content: \"\";width: 100%;border-bottom: 1px solid gray;flex-grow: 1;}#sk-container-id-12 div.sk-label:hover label.sk-toggleable__label {background-color: #d4ebff;}#sk-container-id-12 div.sk-serial::before {content: \"\";position: absolute;border-left: 1px solid gray;box-sizing: border-box;top: 0;bottom: 0;left: 50%;z-index: 0;}#sk-container-id-12 div.sk-serial {display: flex;flex-direction: column;align-items: center;background-color: white;padding-right: 0.2em;padding-left: 0.2em;position: relative;}#sk-container-id-12 div.sk-item {position: relative;z-index: 1;}#sk-container-id-12 div.sk-parallel {display: flex;align-items: stretch;justify-content: center;background-color: white;position: relative;}#sk-container-id-12 div.sk-item::before, #sk-container-id-12 div.sk-parallel-item::before {content: \"\";position: absolute;border-left: 1px solid gray;box-sizing: border-box;top: 0;bottom: 0;left: 50%;z-index: -1;}#sk-container-id-12 div.sk-parallel-item {display: flex;flex-direction: column;z-index: 1;position: relative;background-color: white;}#sk-container-id-12 div.sk-parallel-item:first-child::after {align-self: flex-end;width: 50%;}#sk-container-id-12 div.sk-parallel-item:last-child::after {align-self: flex-start;width: 50%;}#sk-container-id-12 div.sk-parallel-item:only-child::after {width: 0;}#sk-container-id-12 div.sk-dashed-wrapped {border: 1px dashed gray;margin: 0 0.4em 0.5em 0.4em;box-sizing: border-box;padding-bottom: 0.4em;background-color: white;}#sk-container-id-12 div.sk-label label {font-family: monospace;font-weight: bold;display: inline-block;line-height: 1.2em;}#sk-container-id-12 div.sk-label-container {text-align: center;}#sk-container-id-12 div.sk-container {/* jupyter's `normalize.less` sets `[hidden] { display: none; }` but bootstrap.min.css set `[hidden] { display: none !important; }` so we also need the `!important` here to be able to override the default hidden behavior on the sphinx rendered scikit-learn.org. See: https://github.com/scikit-learn/scikit-learn/issues/21755 */display: inline-block !important;position: relative;}#sk-container-id-12 div.sk-text-repr-fallback {display: none;}</style><div id=\"sk-container-id-12\" class=\"sk-top-container\"><div class=\"sk-text-repr-fallback\"><pre>LinearRegression()</pre><b>In a Jupyter environment, please rerun this cell to show the HTML representation or trust the notebook. <br />On GitHub, the HTML representation is unable to render, please try loading this page with nbviewer.org.</b></div><div class=\"sk-container\" hidden><div class=\"sk-item\"><div class=\"sk-estimator sk-toggleable\"><input class=\"sk-toggleable__control sk-hidden--visually\" id=\"sk-estimator-id-12\" type=\"checkbox\" checked><label for=\"sk-estimator-id-12\" class=\"sk-toggleable__label sk-toggleable__label-arrow\">LinearRegression</label><div class=\"sk-toggleable__content\"><pre>LinearRegression()</pre></div></div></div></div></div>"
     },
     "execution_count": 618,
     "metadata": {},
     "output_type": "execute_result"
    }
   ],
   "source": [
    "#Create a Linear Regression model\n",
    "model = LinearRegression()\n",
    "\n",
    "#Train the model on the training data\n",
    "model.fit(X_train, y_train)\n",
    "#model.score(X_test, y_test)"
   ],
   "metadata": {
    "collapsed": false,
    "ExecuteTime": {
     "end_time": "2023-10-01T19:53:24.200297Z",
     "start_time": "2023-10-01T19:53:24.178765Z"
    }
   },
   "id": "eac9958b68d7dc45"
  },
  {
   "cell_type": "code",
   "execution_count": 619,
   "outputs": [
    {
     "data": {
      "text/plain": "LinearRegression()",
      "text/html": "<style>#sk-container-id-13 {color: black;}#sk-container-id-13 pre{padding: 0;}#sk-container-id-13 div.sk-toggleable {background-color: white;}#sk-container-id-13 label.sk-toggleable__label {cursor: pointer;display: block;width: 100%;margin-bottom: 0;padding: 0.3em;box-sizing: border-box;text-align: center;}#sk-container-id-13 label.sk-toggleable__label-arrow:before {content: \"▸\";float: left;margin-right: 0.25em;color: #696969;}#sk-container-id-13 label.sk-toggleable__label-arrow:hover:before {color: black;}#sk-container-id-13 div.sk-estimator:hover label.sk-toggleable__label-arrow:before {color: black;}#sk-container-id-13 div.sk-toggleable__content {max-height: 0;max-width: 0;overflow: hidden;text-align: left;background-color: #f0f8ff;}#sk-container-id-13 div.sk-toggleable__content pre {margin: 0.2em;color: black;border-radius: 0.25em;background-color: #f0f8ff;}#sk-container-id-13 input.sk-toggleable__control:checked~div.sk-toggleable__content {max-height: 200px;max-width: 100%;overflow: auto;}#sk-container-id-13 input.sk-toggleable__control:checked~label.sk-toggleable__label-arrow:before {content: \"▾\";}#sk-container-id-13 div.sk-estimator input.sk-toggleable__control:checked~label.sk-toggleable__label {background-color: #d4ebff;}#sk-container-id-13 div.sk-label input.sk-toggleable__control:checked~label.sk-toggleable__label {background-color: #d4ebff;}#sk-container-id-13 input.sk-hidden--visually {border: 0;clip: rect(1px 1px 1px 1px);clip: rect(1px, 1px, 1px, 1px);height: 1px;margin: -1px;overflow: hidden;padding: 0;position: absolute;width: 1px;}#sk-container-id-13 div.sk-estimator {font-family: monospace;background-color: #f0f8ff;border: 1px dotted black;border-radius: 0.25em;box-sizing: border-box;margin-bottom: 0.5em;}#sk-container-id-13 div.sk-estimator:hover {background-color: #d4ebff;}#sk-container-id-13 div.sk-parallel-item::after {content: \"\";width: 100%;border-bottom: 1px solid gray;flex-grow: 1;}#sk-container-id-13 div.sk-label:hover label.sk-toggleable__label {background-color: #d4ebff;}#sk-container-id-13 div.sk-serial::before {content: \"\";position: absolute;border-left: 1px solid gray;box-sizing: border-box;top: 0;bottom: 0;left: 50%;z-index: 0;}#sk-container-id-13 div.sk-serial {display: flex;flex-direction: column;align-items: center;background-color: white;padding-right: 0.2em;padding-left: 0.2em;position: relative;}#sk-container-id-13 div.sk-item {position: relative;z-index: 1;}#sk-container-id-13 div.sk-parallel {display: flex;align-items: stretch;justify-content: center;background-color: white;position: relative;}#sk-container-id-13 div.sk-item::before, #sk-container-id-13 div.sk-parallel-item::before {content: \"\";position: absolute;border-left: 1px solid gray;box-sizing: border-box;top: 0;bottom: 0;left: 50%;z-index: -1;}#sk-container-id-13 div.sk-parallel-item {display: flex;flex-direction: column;z-index: 1;position: relative;background-color: white;}#sk-container-id-13 div.sk-parallel-item:first-child::after {align-self: flex-end;width: 50%;}#sk-container-id-13 div.sk-parallel-item:last-child::after {align-self: flex-start;width: 50%;}#sk-container-id-13 div.sk-parallel-item:only-child::after {width: 0;}#sk-container-id-13 div.sk-dashed-wrapped {border: 1px dashed gray;margin: 0 0.4em 0.5em 0.4em;box-sizing: border-box;padding-bottom: 0.4em;background-color: white;}#sk-container-id-13 div.sk-label label {font-family: monospace;font-weight: bold;display: inline-block;line-height: 1.2em;}#sk-container-id-13 div.sk-label-container {text-align: center;}#sk-container-id-13 div.sk-container {/* jupyter's `normalize.less` sets `[hidden] { display: none; }` but bootstrap.min.css set `[hidden] { display: none !important; }` so we also need the `!important` here to be able to override the default hidden behavior on the sphinx rendered scikit-learn.org. See: https://github.com/scikit-learn/scikit-learn/issues/21755 */display: inline-block !important;position: relative;}#sk-container-id-13 div.sk-text-repr-fallback {display: none;}</style><div id=\"sk-container-id-13\" class=\"sk-top-container\"><div class=\"sk-text-repr-fallback\"><pre>LinearRegression()</pre><b>In a Jupyter environment, please rerun this cell to show the HTML representation or trust the notebook. <br />On GitHub, the HTML representation is unable to render, please try loading this page with nbviewer.org.</b></div><div class=\"sk-container\" hidden><div class=\"sk-item\"><div class=\"sk-estimator sk-toggleable\"><input class=\"sk-toggleable__control sk-hidden--visually\" id=\"sk-estimator-id-13\" type=\"checkbox\" checked><label for=\"sk-estimator-id-13\" class=\"sk-toggleable__label sk-toggleable__label-arrow\">LinearRegression</label><div class=\"sk-toggleable__content\"><pre>LinearRegression()</pre></div></div></div></div></div>"
     },
     "metadata": {},
     "output_type": "display_data"
    }
   ],
   "source": [
    "display(model)\n"
   ],
   "metadata": {
    "collapsed": false,
    "ExecuteTime": {
     "end_time": "2023-10-01T19:53:26.783981Z",
     "start_time": "2023-10-01T19:53:26.762030Z"
    }
   },
   "id": "73459b82fbadfa9c"
  },
  {
   "cell_type": "code",
   "execution_count": 620,
   "outputs": [
    {
     "name": "stdout",
     "output_type": "stream",
     "text": [
      "Training set score: 0.9979\n",
      "Test set score: 0.9943\n"
     ]
    }
   ],
   "source": [
    "print('Training set score: ' + str(round(model.score(X_train,y_train),4)))\n",
    "print('Test set score: ' + str(round(model.score(X_test,y_test),4)))"
   ],
   "metadata": {
    "collapsed": false,
    "ExecuteTime": {
     "end_time": "2023-10-01T19:53:30.108125Z",
     "start_time": "2023-10-01T19:53:30.086075Z"
    }
   },
   "id": "99dca73164caff58"
  },
  {
   "cell_type": "code",
   "execution_count": 621,
   "outputs": [
    {
     "name": "stdout",
     "output_type": "stream",
     "text": [
      "[[-0.41562927]\n",
      " [-0.38818134]\n",
      " [-0.39826636]\n",
      " [-0.38385085]\n",
      " [-0.37794749]\n",
      " [-0.39659198]\n",
      " [-0.43449212]\n",
      " [-0.48195181]\n",
      " [-0.46794314]\n",
      " [-0.4384651 ]\n",
      " [-0.33200607]\n",
      " [-0.25380103]\n",
      " [-0.21451247]\n",
      " [-0.21174792]\n",
      " [-0.2215471 ]\n",
      " [-0.23554007]\n",
      " [-0.20951661]\n",
      " [-0.20461323]\n",
      " [-0.2154567 ]\n",
      " [-0.19459181]\n",
      " [-0.12007648]\n",
      " [-0.05435448]\n",
      " [-0.05127725]\n",
      " [-0.06427247]\n",
      " [-0.09092438]\n",
      " [-0.08858203]\n",
      " [-0.0540321 ]\n",
      " [-0.03581802]\n",
      " [-0.01214995]\n",
      " [-0.05091147]\n",
      " [-0.05478765]\n",
      " [-0.10713982]\n",
      " [-0.14797959]\n",
      " [-0.21693717]\n",
      " [-0.22395109]\n",
      " [-0.22609276]\n",
      " [-0.20079693]\n",
      " [-0.14866863]\n",
      " [-0.099884  ]\n",
      " [-0.01159674]\n",
      " [-0.00752657]\n",
      " [-0.07276394]\n",
      " [-0.07764417]\n",
      " [-0.12516274]\n",
      " [-0.16133962]\n",
      " [-0.17810789]\n",
      " [-0.17421748]\n",
      " [-0.18793977]\n",
      " [-0.16430095]\n",
      " [-0.18696202]\n",
      " [-0.25458597]\n",
      " [-0.26324253]\n",
      " [-0.18079755]\n",
      " [-0.14537757]\n",
      " [-0.15560007]\n",
      " [-0.10297632]\n",
      " [-0.06925995]\n",
      " [-0.11168108]\n",
      " [-0.16617004]\n",
      " [-0.16552251]\n",
      " [-0.15457186]\n",
      " [-0.12001328]\n",
      " [-0.1002329 ]\n",
      " [-0.13247083]\n",
      " [-0.17172091]\n",
      " [-0.19331463]\n",
      " [-0.17759286]\n",
      " [-0.18169545]\n",
      " [-0.19264955]\n",
      " [-0.14826355]\n",
      " [-0.13672541]\n",
      " [-0.11788268]\n",
      " [-0.0706272 ]\n",
      " [-0.06236438]\n",
      " [-0.11439457]\n",
      " [-0.1691085 ]\n",
      " [-0.16118849]\n",
      " [-0.16285664]\n",
      " [-0.16511607]\n",
      " [-0.18947553]\n",
      " [-0.19499912]\n",
      " [-0.21814217]\n",
      " [-0.22059961]\n",
      " [-0.20081062]\n",
      " [-0.1807202 ]\n",
      " [-0.1420728 ]\n",
      " [-0.1106692 ]\n",
      " [-0.13472309]\n",
      " [-0.14674194]\n",
      " [-0.14622789]\n",
      " [-0.11476031]\n",
      " [-0.10405479]\n",
      " [-0.10105938]\n",
      " [-0.11280764]\n",
      " [-0.16491258]\n",
      " [-0.19458853]\n",
      " [-0.23411819]\n",
      " [-0.25152761]\n",
      " [-0.27261146]\n",
      " [-0.31119545]\n",
      " [-0.3540033 ]\n",
      " [-0.33166757]\n",
      " [-0.35330967]\n",
      " [-0.41359062]\n",
      " [-0.45114157]\n",
      " [-0.45479221]\n",
      " [-0.46857904]\n",
      " [-0.47405203]\n",
      " [-0.49563767]\n",
      " [-0.53706941]\n",
      " [-0.56232109]\n",
      " [-0.53230626]\n",
      " [-0.49513725]\n",
      " [-0.48102624]\n",
      " [-0.46611982]\n",
      " [-0.53587182]\n",
      " [-0.60032745]\n",
      " [-0.60713941]\n",
      " [-0.62092803]\n",
      " [-0.63921906]\n",
      " [-0.64490025]\n",
      " [-0.61995893]\n",
      " [-0.6763847 ]\n",
      " [-0.67962296]\n",
      " [-0.70699411]\n",
      " [-0.71007695]\n",
      " [-0.73205327]\n",
      " [-0.80747035]\n",
      " [-0.77443101]\n",
      " [-0.70724855]\n",
      " [-0.70944733]\n",
      " [-0.72232889]\n",
      " [-0.68876788]\n",
      " [-0.69105698]\n",
      " [-0.63548387]\n",
      " [-0.58950889]\n",
      " [-0.62015385]\n",
      " [-0.62022612]\n",
      " [-0.60419984]\n",
      " [-0.62509622]\n",
      " [-0.62969613]\n",
      " [-0.67782483]\n",
      " [-0.79182467]\n",
      " [-0.78664764]\n",
      " [-0.77985117]\n",
      " [-0.79455423]\n",
      " [-0.80293668]\n",
      " [-0.80234306]\n",
      " [-0.74551247]\n",
      " [-0.72124368]\n",
      " [-0.71234381]\n",
      " [-0.7116896 ]\n",
      " [-0.76973276]\n",
      " [-0.81159821]\n",
      " [-0.73800766]\n",
      " [-0.70697753]\n",
      " [-0.7448193 ]\n",
      " [-0.72920331]\n",
      " [-0.72266681]\n",
      " [-0.69564232]\n",
      " [-0.66624933]\n",
      " [-0.64098345]\n",
      " [-0.63148586]\n",
      " [-0.65419513]\n",
      " [-0.67702402]\n",
      " [-0.71064267]\n",
      " [-0.72875754]\n",
      " [-0.70647172]\n",
      " [-0.68709645]\n",
      " [-0.69445141]\n",
      " [-0.74915298]\n",
      " [-0.75887039]\n",
      " [-0.71131885]\n",
      " [-0.65908436]\n",
      " [-0.67648039]\n",
      " [-0.70024462]\n",
      " [-0.69051648]\n",
      " [-0.69443093]\n",
      " [-0.74098337]\n",
      " [-0.72854226]\n",
      " [-0.70153119]\n",
      " [-0.67793148]\n",
      " [-0.71059145]\n",
      " [-0.76528602]\n",
      " [-0.79644229]\n",
      " [-0.81289211]\n",
      " [-0.82138858]\n",
      " [-0.79505371]\n",
      " [-0.773783  ]\n",
      " [-0.79994316]\n",
      " [-0.90466671]\n",
      " [-0.96237798]\n",
      " [-0.96040672]\n",
      " [-0.97083139]\n",
      " [-1.01303668]\n",
      " [-0.97593859]\n",
      " [-0.95317826]\n",
      " [-0.91746172]\n",
      " [-0.9141889 ]\n",
      " [-0.82699601]\n",
      " [-0.78039775]\n",
      " [-0.8074351 ]\n",
      " [-0.78104508]\n",
      " [-0.74545752]\n",
      " [-0.72908861]\n",
      " [-0.68688969]\n",
      " [-0.69287028]\n",
      " [-0.69930604]\n",
      " [-0.73120391]\n",
      " [-0.7761012 ]\n",
      " [-0.76429263]\n",
      " [-0.79395834]\n",
      " [-0.77443574]\n",
      " [-0.74972895]\n",
      " [-0.77543055]\n",
      " [-0.82200959]\n",
      " [-0.80006534]\n",
      " [-0.78244569]\n",
      " [-0.77292332]\n",
      " [-0.72499301]\n",
      " [-0.70334169]\n",
      " [-0.752725  ]\n",
      " [-0.71693539]\n",
      " [-0.69723998]\n",
      " [-0.70230729]\n",
      " [-0.65678345]\n",
      " [-0.62574967]\n",
      " [-0.64441688]\n",
      " [-0.63476863]\n",
      " [-0.62961012]\n",
      " [-0.63652671]\n",
      " [-0.69461287]\n",
      " [-0.7691743 ]\n",
      " [-0.77678384]\n",
      " [-0.79145691]\n",
      " [-0.82785494]\n",
      " [-0.83422181]\n",
      " [-0.87184676]\n",
      " [-0.85876821]\n",
      " [-0.84729806]\n",
      " [-0.87595748]\n",
      " [-0.88654992]\n",
      " [-0.85574505]\n",
      " [-0.80622993]\n",
      " [-0.79484351]\n",
      " [-0.81894185]\n",
      " [-0.79522741]\n",
      " [-0.78668432]\n",
      " [-0.82592588]\n",
      " [-0.87788676]\n",
      " [-0.89134702]\n",
      " [-0.85265031]\n",
      " [-0.87310703]\n",
      " [-0.89680514]\n",
      " [-0.93700055]\n",
      " [-0.96138169]\n",
      " [-0.97707649]\n",
      " [-0.95367253]\n",
      " [-0.96455155]\n",
      " [-0.98696168]\n",
      " [-1.01444188]\n",
      " [-0.97034467]\n",
      " [-0.93906015]\n",
      " [-0.95513923]\n",
      " [-0.95607904]\n",
      " [-0.93657126]\n",
      " [-0.89243836]\n",
      " [-0.93525062]\n",
      " [-1.00168725]\n",
      " [-1.02217592]\n",
      " [-1.06651184]\n",
      " [-1.0776549 ]\n",
      " [-1.03846429]\n",
      " [-1.01754783]\n",
      " [-0.97771922]\n",
      " [-0.93056686]\n",
      " [-0.91839143]\n",
      " [-0.92979681]\n",
      " [-0.95588033]\n",
      " [-0.94246958]\n",
      " [-0.9702266 ]\n",
      " [-1.0036223 ]\n",
      " [-0.99369254]\n",
      " [-1.02406121]\n",
      " [-1.02768023]\n",
      " [-0.96433484]\n",
      " [-0.98243275]\n",
      " [-1.00555624]\n",
      " [-0.99400312]\n",
      " [-0.97474346]\n",
      " [-1.00258478]\n",
      " [-0.98356249]\n",
      " [-0.95877033]\n",
      " [-0.94224668]\n",
      " [-0.94098749]\n",
      " [-0.98952379]\n",
      " [-0.99578398]\n",
      " [-0.9750701 ]\n",
      " [-1.02463029]\n",
      " [-1.03631399]\n",
      " [-1.01030673]\n",
      " [-0.9769231 ]\n",
      " [-0.94444184]\n",
      " [-0.91322879]\n",
      " [-0.92435703]\n",
      " [-0.97541285]\n",
      " [-0.94595789]\n",
      " [-0.93530817]\n",
      " [-0.95665274]\n",
      " [-0.9414509 ]\n",
      " [-0.8969091 ]\n",
      " [-0.9091864 ]\n",
      " [-0.90456803]\n",
      " [-0.88637561]\n",
      " [-0.9460281 ]\n",
      " [-0.97644203]\n",
      " [-0.95212975]\n",
      " [-0.94543029]\n",
      " [-0.9032365 ]\n",
      " [-0.90380426]\n",
      " [-0.86403829]\n",
      " [-0.82902952]\n",
      " [-0.85226428]\n",
      " [-0.89367945]\n",
      " [-0.88702782]\n",
      " [-0.91520678]\n",
      " [-0.95146511]\n",
      " [-0.96183141]\n",
      " [-0.96594228]\n",
      " [-0.9852354 ]\n",
      " [-0.97962533]\n",
      " [-0.98888918]\n",
      " [-0.9791614 ]\n",
      " [-0.99961224]\n",
      " [-0.99484647]\n",
      " [-0.94151607]\n",
      " [-0.92953186]\n",
      " [-0.91861848]\n",
      " [-0.90504958]\n",
      " [-0.87365049]\n",
      " [-0.89462665]\n",
      " [-0.89604516]\n",
      " [-0.90808262]\n",
      " [-0.92923992]\n",
      " [-0.96357642]\n",
      " [-0.99748153]\n",
      " [-1.01145464]\n",
      " [-1.02432833]\n",
      " [-1.04002557]\n",
      " [-1.04359568]\n",
      " [-1.03582346]\n",
      " [-1.05749056]\n",
      " [-1.05746194]\n",
      " [-1.0475611 ]\n",
      " [-1.02684779]\n",
      " [-1.02531862]\n",
      " [-0.99516923]\n",
      " [-0.99847064]\n",
      " [-0.99602628]\n",
      " [-0.99726815]\n",
      " [-0.9823109 ]\n",
      " [-0.96801847]\n",
      " [-0.95703222]\n",
      " [-0.95556844]\n",
      " [-0.96659748]\n",
      " [-0.96153169]\n",
      " [-0.99381311]\n",
      " [-1.0231431 ]\n",
      " [-1.03696129]\n",
      " [-1.07049511]\n",
      " [-1.11319699]\n",
      " [-1.09688436]\n",
      " [-1.09010404]\n",
      " [-1.05854737]\n",
      " [-1.03175684]\n",
      " [-1.02296834]\n",
      " [-1.01539624]\n",
      " [-1.01180041]\n",
      " [-0.99715128]\n",
      " [-0.98399903]\n",
      " [-0.96735226]\n",
      " [-0.94675605]\n",
      " [-1.00740436]\n",
      " [-1.03842772]\n",
      " [-1.02567648]\n",
      " [-1.03773915]\n",
      " [-1.07605032]\n",
      " [-1.09361899]\n",
      " [-1.10392718]\n",
      " [-1.10577258]\n",
      " [-1.10657585]\n",
      " [-1.12676397]\n",
      " [-1.09567954]\n",
      " [-1.10044403]\n",
      " [-1.10468903]\n",
      " [-1.11060249]\n",
      " [-1.08223677]\n",
      " [-1.05907642]\n",
      " [-1.06017168]\n",
      " [-1.05331294]\n",
      " [-1.02796752]\n",
      " [-1.02413949]\n",
      " [-1.01994563]\n",
      " [-1.03165555]\n",
      " [-1.02608744]\n",
      " [-1.07026099]\n",
      " [-1.08630282]\n",
      " [-1.08664158]\n",
      " [-1.07868209]\n",
      " [-1.09800746]\n",
      " [-1.13416319]\n",
      " [-1.17713561]\n",
      " [-1.17475694]\n",
      " [-1.17064562]\n",
      " [-1.1550754 ]\n",
      " [-1.11809305]\n",
      " [-1.10081318]\n",
      " [-1.12924322]\n",
      " [-1.14470123]\n",
      " [-1.13205854]\n",
      " [-1.12516045]\n",
      " [-1.12518891]\n",
      " [-1.11970327]\n",
      " [-1.11114468]\n",
      " [-1.08484979]\n",
      " [-1.08206341]\n",
      " [-1.08336596]\n",
      " [-1.09556479]\n",
      " [-1.11747893]\n",
      " [-1.12800214]\n",
      " [-1.15289071]\n",
      " [-1.15850488]\n",
      " [-1.15940545]\n",
      " [-1.16320631]\n",
      " [-1.16159537]\n",
      " [-1.16472357]\n",
      " [-1.1265299 ]\n",
      " [-1.1120032 ]\n",
      " [-1.12127729]\n",
      " [-1.14045181]\n",
      " [-1.17081221]\n",
      " [-1.18343249]\n",
      " [-1.16847745]\n",
      " [-1.14594734]\n",
      " [-1.11144677]\n",
      " [-1.06894031]\n",
      " [-1.06617043]\n",
      " [-1.06506716]\n",
      " [-1.03208707]\n",
      " [-1.00785279]\n",
      " [-1.01874448]\n",
      " [-1.00945534]\n",
      " [-1.01324533]\n",
      " [-1.04138151]\n",
      " [-1.07357848]\n",
      " [-1.10970112]\n",
      " [-1.10372062]\n",
      " [-1.12069414]\n",
      " [-1.1185097 ]\n",
      " [-1.04394337]\n",
      " [-1.01094599]\n",
      " [-0.96272619]\n",
      " [-0.95044926]\n",
      " [-0.95268231]\n",
      " [-0.97176936]\n",
      " [-0.971101  ]\n",
      " [-0.96346464]\n",
      " [-0.97231936]\n",
      " [-1.01330366]\n",
      " [-1.04115406]\n",
      " [-1.04727375]\n",
      " [-1.04851131]\n",
      " [-1.08210217]\n",
      " [-1.10407415]\n",
      " [-1.10968243]\n",
      " [-1.12016359]\n",
      " [-1.09799166]\n",
      " [-1.06756416]\n",
      " [-1.06929608]\n",
      " [-1.06125108]\n",
      " [-1.06420751]\n",
      " [-1.09725775]\n",
      " [-1.10981107]\n",
      " [-1.08803571]\n",
      " [-1.08511335]\n",
      " [-1.11045677]\n",
      " [-1.11261649]\n",
      " [-1.1506993 ]\n",
      " [-1.176144  ]\n",
      " [-1.17764732]\n",
      " [-1.1823968 ]\n",
      " [-1.1876366 ]\n",
      " [-1.18494132]\n",
      " [-1.17098222]\n",
      " [-1.18746987]\n",
      " [-1.25040988]\n",
      " [-1.21413817]\n",
      " [-1.20221293]\n",
      " [-1.14524181]\n",
      " [-1.11077251]\n",
      " [-1.10580854]\n",
      " [-1.11094722]\n",
      " [-1.11438026]\n",
      " [-1.11153593]\n",
      " [-1.10855068]\n",
      " [-1.12188304]\n",
      " [-1.15018892]\n",
      " [-1.18065701]\n",
      " [-1.21702038]\n",
      " [-1.21741374]\n",
      " [-1.21959337]\n",
      " [-1.22345515]\n",
      " [-1.21638542]\n",
      " [-1.22649212]\n",
      " [-1.22154862]\n",
      " [-1.16277466]\n",
      " [-1.19202795]\n",
      " [-1.21187907]\n",
      " [-1.22609175]\n",
      " [-1.23897214]\n",
      " [-1.2765761 ]\n",
      " [-1.30791449]\n",
      " [-1.32054917]\n",
      " [-1.33986285]\n",
      " [-1.28864477]\n",
      " [-1.25877092]\n",
      " [-1.26198394]\n",
      " [-1.27283961]\n",
      " [-1.25860339]\n",
      " [-1.25428912]\n",
      " [-1.27379208]\n",
      " [-1.26363249]\n",
      " [-1.21676617]\n",
      " [-1.21837217]\n",
      " [-1.25757403]\n",
      " [-1.25928802]\n",
      " [-1.24268538]\n",
      " [-1.25008371]\n",
      " [-1.26431174]\n",
      " [-1.28448925]\n",
      " [-1.30059843]\n",
      " [-1.29770624]\n",
      " [-1.31876765]\n",
      " [-1.35070217]\n",
      " [-1.35968576]\n",
      " [-1.34712652]\n",
      " [-1.37076719]\n",
      " [-1.37757934]\n",
      " [-1.34727536]\n",
      " [-1.32330215]\n",
      " [-1.31164752]\n",
      " [-1.30683033]\n",
      " [-1.30722909]\n",
      " [-1.3155161 ]\n",
      " [-1.31198257]\n",
      " [-1.27844484]\n",
      " [-1.25938623]\n",
      " [-1.25731531]\n",
      " [-1.26144997]\n",
      " [-1.26403234]\n",
      " [-1.24229054]\n",
      " [-1.19459219]\n",
      " [-1.16621448]\n",
      " [-1.15070017]\n",
      " [-1.15005258]\n",
      " [-1.16531219]\n",
      " [-1.18118004]\n",
      " [-1.18286049]\n",
      " [-1.20552915]\n",
      " [-1.22322345]\n",
      " [-1.21291111]\n",
      " [-1.20607396]\n",
      " [-1.18470796]\n",
      " [-1.15001374]\n",
      " [-1.14765648]\n",
      " [-1.14204204]\n",
      " [-1.15493632]\n",
      " [-1.20685416]\n",
      " [-1.23346483]\n",
      " [-1.24623477]\n",
      " [-1.26750006]\n",
      " [-1.28111159]\n",
      " [-1.27248205]\n",
      " [-1.28100942]\n",
      " [-1.29172421]\n",
      " [-1.29301586]\n",
      " [-1.26714519]\n",
      " [-1.25015649]\n",
      " [-1.23660725]\n",
      " [-1.22761874]\n",
      " [-1.23035019]\n",
      " [-1.22255573]\n",
      " [-1.24597721]\n",
      " [-1.27819662]\n",
      " [-1.28321343]\n",
      " [-1.28309595]\n",
      " [-1.29312196]\n",
      " [-1.29221489]\n",
      " [-1.29050276]\n",
      " [-1.27925752]\n",
      " [-1.25686196]\n",
      " [-1.21704144]\n",
      " [-1.21627592]\n",
      " [-1.20494679]\n",
      " [-1.21234658]\n",
      " [-1.24044567]\n",
      " [-1.23444338]\n",
      " [-1.21885518]\n",
      " [-1.20126351]\n",
      " [-1.16836828]\n",
      " [-1.14921213]\n",
      " [-1.1793387 ]\n",
      " [-1.16691015]\n",
      " [-1.15757079]\n",
      " [-1.17987635]\n",
      " [-1.18201925]\n",
      " [-1.20709171]\n",
      " [-1.22819338]\n",
      " [-1.22287367]\n",
      " [-1.22319029]\n",
      " [-1.22457135]\n",
      " [-1.21502416]\n",
      " [-1.16276449]\n",
      " [-1.13103181]\n",
      " [-1.11330891]] [[ 1.59371178]\n",
      " [ 1.60871736]\n",
      " [ 1.56730466]\n",
      " ...\n",
      " [-0.54174536]\n",
      " [-0.52343645]\n",
      " [-0.48184415]]\n"
     ]
    }
   ],
   "source": [
    "forecast=model.predict(X_test)\n",
    "forecasty=model.predict(X_train)\n",
    "print(forecast,forecasty)"
   ],
   "metadata": {
    "collapsed": false,
    "ExecuteTime": {
     "end_time": "2023-10-01T19:53:35.528975Z",
     "start_time": "2023-10-01T19:53:35.507965Z"
    }
   },
   "id": "81410f214edd6095"
  },
  {
   "cell_type": "code",
   "execution_count": 622,
   "outputs": [
    {
     "data": {
      "text/plain": "'0.9943'"
     },
     "execution_count": 622,
     "metadata": {},
     "output_type": "execute_result"
    }
   ],
   "source": [
    "from sklearn.metrics import r2_score\n",
    "R2=r2_score(y_test,forecast)\n",
    "formatted_R2=\"{:.4f}\".format(R2)\n",
    "\n",
    "formatted_R2"
   ],
   "metadata": {
    "collapsed": false,
    "ExecuteTime": {
     "end_time": "2023-10-01T19:53:38.151759Z",
     "start_time": "2023-10-01T19:53:38.135855Z"
    }
   },
   "id": "250ef48f19290dc5"
  },
  {
   "cell_type": "code",
   "execution_count": 623,
   "outputs": [
    {
     "ename": "ValueError",
     "evalue": "Length of values (625) does not match length of index (6)",
     "output_type": "error",
     "traceback": [
      "\u001B[0;31m---------------------------------------------------------------------------\u001B[0m",
      "\u001B[0;31mValueError\u001B[0m                                Traceback (most recent call last)",
      "Cell \u001B[0;32mIn[623], line 3\u001B[0m\n\u001B[1;32m      1\u001B[0m \u001B[38;5;66;03m#De standardize the forecast \u001B[39;00m\n\u001B[0;32m----> 3\u001B[0m De_std_forecast\u001B[38;5;241m=\u001B[39m De_Standardize_here(train_data,forecast)\n\u001B[1;32m      5\u001B[0m De_std_forecast\n",
      "Cell \u001B[0;32mIn[599], line 12\u001B[0m, in \u001B[0;36mDe_Standardize_here\u001B[0;34m(data, data2)\u001B[0m\n\u001B[1;32m     10\u001B[0m mn\u001B[38;5;241m=\u001B[39mdata\u001B[38;5;241m.\u001B[39mmean()\n\u001B[1;32m     11\u001B[0m std\u001B[38;5;241m=\u001B[39mdata\u001B[38;5;241m.\u001B[39mstd()\n\u001B[0;32m---> 12\u001B[0m de_std\u001B[38;5;241m=\u001B[39m(data2\u001B[38;5;241m*\u001B[39mstd)\u001B[38;5;241m+\u001B[39mmn\n\u001B[1;32m     13\u001B[0m \u001B[38;5;28;01mreturn\u001B[39;00m  de_std\n",
      "File \u001B[0;32m~/anaconda3/lib/python3.11/site-packages/pandas/core/generic.py:2102\u001B[0m, in \u001B[0;36mNDFrame.__array_ufunc__\u001B[0;34m(self, ufunc, method, *inputs, **kwargs)\u001B[0m\n\u001B[1;32m   2098\u001B[0m \u001B[38;5;129m@final\u001B[39m\n\u001B[1;32m   2099\u001B[0m \u001B[38;5;28;01mdef\u001B[39;00m \u001B[38;5;21m__array_ufunc__\u001B[39m(\n\u001B[1;32m   2100\u001B[0m     \u001B[38;5;28mself\u001B[39m, ufunc: np\u001B[38;5;241m.\u001B[39mufunc, method: \u001B[38;5;28mstr\u001B[39m, \u001B[38;5;241m*\u001B[39minputs: Any, \u001B[38;5;241m*\u001B[39m\u001B[38;5;241m*\u001B[39mkwargs: Any\n\u001B[1;32m   2101\u001B[0m ):\n\u001B[0;32m-> 2102\u001B[0m     \u001B[38;5;28;01mreturn\u001B[39;00m arraylike\u001B[38;5;241m.\u001B[39marray_ufunc(\u001B[38;5;28mself\u001B[39m, ufunc, method, \u001B[38;5;241m*\u001B[39minputs, \u001B[38;5;241m*\u001B[39m\u001B[38;5;241m*\u001B[39mkwargs)\n",
      "File \u001B[0;32m~/anaconda3/lib/python3.11/site-packages/pandas/core/arraylike.py:273\u001B[0m, in \u001B[0;36marray_ufunc\u001B[0;34m(self, ufunc, method, *inputs, **kwargs)\u001B[0m\n\u001B[1;32m    270\u001B[0m kwargs \u001B[38;5;241m=\u001B[39m _standardize_out_kwarg(\u001B[38;5;241m*\u001B[39m\u001B[38;5;241m*\u001B[39mkwargs)\n\u001B[1;32m    272\u001B[0m \u001B[38;5;66;03m# for binary ops, use our custom dunder methods\u001B[39;00m\n\u001B[0;32m--> 273\u001B[0m result \u001B[38;5;241m=\u001B[39m maybe_dispatch_ufunc_to_dunder_op(\u001B[38;5;28mself\u001B[39m, ufunc, method, \u001B[38;5;241m*\u001B[39minputs, \u001B[38;5;241m*\u001B[39m\u001B[38;5;241m*\u001B[39mkwargs)\n\u001B[1;32m    274\u001B[0m \u001B[38;5;28;01mif\u001B[39;00m result \u001B[38;5;129;01mis\u001B[39;00m \u001B[38;5;129;01mnot\u001B[39;00m \u001B[38;5;28mNotImplemented\u001B[39m:\n\u001B[1;32m    275\u001B[0m     \u001B[38;5;28;01mreturn\u001B[39;00m result\n",
      "File \u001B[0;32mops_dispatch.pyx:113\u001B[0m, in \u001B[0;36mpandas._libs.ops_dispatch.maybe_dispatch_ufunc_to_dunder_op\u001B[0;34m()\u001B[0m\n",
      "File \u001B[0;32m~/anaconda3/lib/python3.11/site-packages/pandas/core/ops/common.py:76\u001B[0m, in \u001B[0;36m_unpack_zerodim_and_defer.<locals>.new_method\u001B[0;34m(self, other)\u001B[0m\n\u001B[1;32m     72\u001B[0m             \u001B[38;5;28;01mreturn\u001B[39;00m \u001B[38;5;28mNotImplemented\u001B[39m\n\u001B[1;32m     74\u001B[0m other \u001B[38;5;241m=\u001B[39m item_from_zerodim(other)\n\u001B[0;32m---> 76\u001B[0m \u001B[38;5;28;01mreturn\u001B[39;00m method(\u001B[38;5;28mself\u001B[39m, other)\n",
      "File \u001B[0;32m~/anaconda3/lib/python3.11/site-packages/pandas/core/arraylike.py:206\u001B[0m, in \u001B[0;36mOpsMixin.__rmul__\u001B[0;34m(self, other)\u001B[0m\n\u001B[1;32m    204\u001B[0m \u001B[38;5;129m@unpack_zerodim_and_defer\u001B[39m(\u001B[38;5;124m\"\u001B[39m\u001B[38;5;124m__rmul__\u001B[39m\u001B[38;5;124m\"\u001B[39m)\n\u001B[1;32m    205\u001B[0m \u001B[38;5;28;01mdef\u001B[39;00m \u001B[38;5;21m__rmul__\u001B[39m(\u001B[38;5;28mself\u001B[39m, other):\n\u001B[0;32m--> 206\u001B[0m     \u001B[38;5;28;01mreturn\u001B[39;00m \u001B[38;5;28mself\u001B[39m\u001B[38;5;241m.\u001B[39m_arith_method(other, roperator\u001B[38;5;241m.\u001B[39mrmul)\n",
      "File \u001B[0;32m~/anaconda3/lib/python3.11/site-packages/pandas/core/series.py:5820\u001B[0m, in \u001B[0;36mSeries._arith_method\u001B[0;34m(self, other, op)\u001B[0m\n\u001B[1;32m   5818\u001B[0m \u001B[38;5;28;01mdef\u001B[39;00m \u001B[38;5;21m_arith_method\u001B[39m(\u001B[38;5;28mself\u001B[39m, other, op):\n\u001B[1;32m   5819\u001B[0m     \u001B[38;5;28mself\u001B[39m, other \u001B[38;5;241m=\u001B[39m \u001B[38;5;28mself\u001B[39m\u001B[38;5;241m.\u001B[39m_align_for_op(other)\n\u001B[0;32m-> 5820\u001B[0m     \u001B[38;5;28;01mreturn\u001B[39;00m base\u001B[38;5;241m.\u001B[39mIndexOpsMixin\u001B[38;5;241m.\u001B[39m_arith_method(\u001B[38;5;28mself\u001B[39m, other, op)\n",
      "File \u001B[0;32m~/anaconda3/lib/python3.11/site-packages/pandas/core/base.py:1383\u001B[0m, in \u001B[0;36mIndexOpsMixin._arith_method\u001B[0;34m(self, other, op)\u001B[0m\n\u001B[1;32m   1380\u001B[0m \u001B[38;5;28;01mwith\u001B[39;00m np\u001B[38;5;241m.\u001B[39merrstate(\u001B[38;5;28mall\u001B[39m\u001B[38;5;241m=\u001B[39m\u001B[38;5;124m\"\u001B[39m\u001B[38;5;124mignore\u001B[39m\u001B[38;5;124m\"\u001B[39m):\n\u001B[1;32m   1381\u001B[0m     result \u001B[38;5;241m=\u001B[39m ops\u001B[38;5;241m.\u001B[39marithmetic_op(lvalues, rvalues, op)\n\u001B[0;32m-> 1383\u001B[0m \u001B[38;5;28;01mreturn\u001B[39;00m \u001B[38;5;28mself\u001B[39m\u001B[38;5;241m.\u001B[39m_construct_result(result, name\u001B[38;5;241m=\u001B[39mres_name)\n",
      "File \u001B[0;32m~/anaconda3/lib/python3.11/site-packages/pandas/core/series.py:5916\u001B[0m, in \u001B[0;36mSeries._construct_result\u001B[0;34m(self, result, name)\u001B[0m\n\u001B[1;32m   5913\u001B[0m \u001B[38;5;66;03m# TODO: result should always be ArrayLike, but this fails for some\u001B[39;00m\n\u001B[1;32m   5914\u001B[0m \u001B[38;5;66;03m#  JSONArray tests\u001B[39;00m\n\u001B[1;32m   5915\u001B[0m dtype \u001B[38;5;241m=\u001B[39m \u001B[38;5;28mgetattr\u001B[39m(result, \u001B[38;5;124m\"\u001B[39m\u001B[38;5;124mdtype\u001B[39m\u001B[38;5;124m\"\u001B[39m, \u001B[38;5;28;01mNone\u001B[39;00m)\n\u001B[0;32m-> 5916\u001B[0m out \u001B[38;5;241m=\u001B[39m \u001B[38;5;28mself\u001B[39m\u001B[38;5;241m.\u001B[39m_constructor(result, index\u001B[38;5;241m=\u001B[39m\u001B[38;5;28mself\u001B[39m\u001B[38;5;241m.\u001B[39mindex, dtype\u001B[38;5;241m=\u001B[39mdtype, copy\u001B[38;5;241m=\u001B[39m\u001B[38;5;28;01mFalse\u001B[39;00m)\n\u001B[1;32m   5917\u001B[0m out \u001B[38;5;241m=\u001B[39m out\u001B[38;5;241m.\u001B[39m__finalize__(\u001B[38;5;28mself\u001B[39m)\n\u001B[1;32m   5919\u001B[0m \u001B[38;5;66;03m# Set the result's name after __finalize__ is called because __finalize__\u001B[39;00m\n\u001B[1;32m   5920\u001B[0m \u001B[38;5;66;03m#  would set it back to self.name\u001B[39;00m\n",
      "File \u001B[0;32m~/anaconda3/lib/python3.11/site-packages/pandas/core/series.py:503\u001B[0m, in \u001B[0;36mSeries.__init__\u001B[0;34m(self, data, index, dtype, name, copy, fastpath)\u001B[0m\n\u001B[1;32m    501\u001B[0m     index \u001B[38;5;241m=\u001B[39m default_index(\u001B[38;5;28mlen\u001B[39m(data))\n\u001B[1;32m    502\u001B[0m \u001B[38;5;28;01melif\u001B[39;00m is_list_like(data):\n\u001B[0;32m--> 503\u001B[0m     com\u001B[38;5;241m.\u001B[39mrequire_length_match(data, index)\n\u001B[1;32m    505\u001B[0m \u001B[38;5;66;03m# create/copy the manager\u001B[39;00m\n\u001B[1;32m    506\u001B[0m \u001B[38;5;28;01mif\u001B[39;00m \u001B[38;5;28misinstance\u001B[39m(data, (SingleBlockManager, SingleArrayManager)):\n",
      "File \u001B[0;32m~/anaconda3/lib/python3.11/site-packages/pandas/core/common.py:561\u001B[0m, in \u001B[0;36mrequire_length_match\u001B[0;34m(data, index)\u001B[0m\n\u001B[1;32m    557\u001B[0m \u001B[38;5;250m\u001B[39m\u001B[38;5;124;03m\"\"\"\u001B[39;00m\n\u001B[1;32m    558\u001B[0m \u001B[38;5;124;03mCheck the length of data matches the length of the index.\u001B[39;00m\n\u001B[1;32m    559\u001B[0m \u001B[38;5;124;03m\"\"\"\u001B[39;00m\n\u001B[1;32m    560\u001B[0m \u001B[38;5;28;01mif\u001B[39;00m \u001B[38;5;28mlen\u001B[39m(data) \u001B[38;5;241m!=\u001B[39m \u001B[38;5;28mlen\u001B[39m(index):\n\u001B[0;32m--> 561\u001B[0m     \u001B[38;5;28;01mraise\u001B[39;00m \u001B[38;5;167;01mValueError\u001B[39;00m(\n\u001B[1;32m    562\u001B[0m         \u001B[38;5;124m\"\u001B[39m\u001B[38;5;124mLength of values \u001B[39m\u001B[38;5;124m\"\u001B[39m\n\u001B[1;32m    563\u001B[0m         \u001B[38;5;124mf\u001B[39m\u001B[38;5;124m\"\u001B[39m\u001B[38;5;124m(\u001B[39m\u001B[38;5;132;01m{\u001B[39;00m\u001B[38;5;28mlen\u001B[39m(data)\u001B[38;5;132;01m}\u001B[39;00m\u001B[38;5;124m) \u001B[39m\u001B[38;5;124m\"\u001B[39m\n\u001B[1;32m    564\u001B[0m         \u001B[38;5;124m\"\u001B[39m\u001B[38;5;124mdoes not match length of index \u001B[39m\u001B[38;5;124m\"\u001B[39m\n\u001B[1;32m    565\u001B[0m         \u001B[38;5;124mf\u001B[39m\u001B[38;5;124m\"\u001B[39m\u001B[38;5;124m(\u001B[39m\u001B[38;5;132;01m{\u001B[39;00m\u001B[38;5;28mlen\u001B[39m(index)\u001B[38;5;132;01m}\u001B[39;00m\u001B[38;5;124m)\u001B[39m\u001B[38;5;124m\"\u001B[39m\n\u001B[1;32m    566\u001B[0m     )\n",
      "\u001B[0;31mValueError\u001B[0m: Length of values (625) does not match length of index (6)"
     ]
    }
   ],
   "source": [
    "#De standardize the forecast \n",
    "\n",
    "De_std_forecast= De_Standardize_here(train_data,forecast)\n",
    "\n",
    "De_std_forecast"
   ],
   "metadata": {
    "collapsed": false,
    "ExecuteTime": {
     "end_time": "2023-10-01T19:57:01.262579Z",
     "start_time": "2023-10-01T19:57:00.913678Z"
    }
   },
   "id": "a100156dbfa9b478"
  },
  {
   "cell_type": "code",
   "execution_count": null,
   "outputs": [],
   "source": [],
   "metadata": {
    "collapsed": false
   },
   "id": "1ff8bb63a6551185"
  }
 ],
 "metadata": {
  "kernelspec": {
   "display_name": "Python 3",
   "language": "python",
   "name": "python3"
  },
  "language_info": {
   "codemirror_mode": {
    "name": "ipython",
    "version": 2
   },
   "file_extension": ".py",
   "mimetype": "text/x-python",
   "name": "python",
   "nbconvert_exporter": "python",
   "pygments_lexer": "ipython2",
   "version": "2.7.6"
  }
 },
 "nbformat": 4,
 "nbformat_minor": 5
}
